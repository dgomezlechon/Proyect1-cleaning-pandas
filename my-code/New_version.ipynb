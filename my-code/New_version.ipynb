{
 "cells": [
  {
   "cell_type": "code",
   "execution_count": 1,
   "id": "c99819e6",
   "metadata": {},
   "outputs": [],
   "source": [
    "import pandas as pd\n",
    "import numpy as np\n",
    "import pylab as plt\n",
    "import seaborn as sns\n",
    "import statistics\n",
    "\n",
    "%matplotlib inline  "
   ]
  },
  {
   "cell_type": "code",
   "execution_count": 2,
   "id": "07bde825",
   "metadata": {},
   "outputs": [],
   "source": [
    "pd.set_option('display.max_columns', None)  # es para enseñar todas las columnas del df\n",
    "\n",
    "import warnings\n",
    "warnings.simplefilter('ignore')"
   ]
  },
  {
   "cell_type": "code",
   "execution_count": 3,
   "id": "37a296bb",
   "metadata": {},
   "outputs": [],
   "source": [
    "shark=pd.read_csv('../data/attacks.csv',encoding=\"latin1\")"
   ]
  },
  {
   "cell_type": "code",
   "execution_count": 4,
   "id": "53774652",
   "metadata": {},
   "outputs": [
    {
     "data": {
      "text/html": [
       "<div>\n",
       "<style scoped>\n",
       "    .dataframe tbody tr th:only-of-type {\n",
       "        vertical-align: middle;\n",
       "    }\n",
       "\n",
       "    .dataframe tbody tr th {\n",
       "        vertical-align: top;\n",
       "    }\n",
       "\n",
       "    .dataframe thead th {\n",
       "        text-align: right;\n",
       "    }\n",
       "</style>\n",
       "<table border=\"1\" class=\"dataframe\">\n",
       "  <thead>\n",
       "    <tr style=\"text-align: right;\">\n",
       "      <th></th>\n",
       "      <th>Case Number</th>\n",
       "      <th>Date</th>\n",
       "      <th>Year</th>\n",
       "      <th>Type</th>\n",
       "      <th>Country</th>\n",
       "      <th>Area</th>\n",
       "      <th>Location</th>\n",
       "      <th>Activity</th>\n",
       "      <th>Name</th>\n",
       "      <th>Sex</th>\n",
       "      <th>Age</th>\n",
       "      <th>Injury</th>\n",
       "      <th>Fatal (Y/N)</th>\n",
       "      <th>Time</th>\n",
       "      <th>Species</th>\n",
       "      <th>Investigator or Source</th>\n",
       "      <th>pdf</th>\n",
       "      <th>href formula</th>\n",
       "      <th>href</th>\n",
       "      <th>Case Number.1</th>\n",
       "      <th>Case Number.2</th>\n",
       "      <th>original order</th>\n",
       "      <th>Unnamed: 22</th>\n",
       "      <th>Unnamed: 23</th>\n",
       "    </tr>\n",
       "  </thead>\n",
       "  <tbody>\n",
       "    <tr>\n",
       "      <th>0</th>\n",
       "      <td>2018.06.25</td>\n",
       "      <td>25-Jun-2018</td>\n",
       "      <td>2018.0</td>\n",
       "      <td>Boating</td>\n",
       "      <td>USA</td>\n",
       "      <td>California</td>\n",
       "      <td>Oceanside, San Diego County</td>\n",
       "      <td>Paddling</td>\n",
       "      <td>Julie Wolfe</td>\n",
       "      <td>F</td>\n",
       "      <td>57</td>\n",
       "      <td>No injury to occupant, outrigger canoe and pad...</td>\n",
       "      <td>N</td>\n",
       "      <td>18h00</td>\n",
       "      <td>White shark</td>\n",
       "      <td>R. Collier, GSAF</td>\n",
       "      <td>2018.06.25-Wolfe.pdf</td>\n",
       "      <td>http://sharkattackfile.net/spreadsheets/pdf_di...</td>\n",
       "      <td>http://sharkattackfile.net/spreadsheets/pdf_di...</td>\n",
       "      <td>2018.06.25</td>\n",
       "      <td>2018.06.25</td>\n",
       "      <td>6303.0</td>\n",
       "      <td>NaN</td>\n",
       "      <td>NaN</td>\n",
       "    </tr>\n",
       "    <tr>\n",
       "      <th>1</th>\n",
       "      <td>2018.06.18</td>\n",
       "      <td>18-Jun-2018</td>\n",
       "      <td>2018.0</td>\n",
       "      <td>Unprovoked</td>\n",
       "      <td>USA</td>\n",
       "      <td>Georgia</td>\n",
       "      <td>St. Simon Island, Glynn County</td>\n",
       "      <td>Standing</td>\n",
       "      <td>Adyson McNeely</td>\n",
       "      <td>F</td>\n",
       "      <td>11</td>\n",
       "      <td>Minor injury to left thigh</td>\n",
       "      <td>N</td>\n",
       "      <td>14h00  -15h00</td>\n",
       "      <td>NaN</td>\n",
       "      <td>K.McMurray, TrackingSharks.com</td>\n",
       "      <td>2018.06.18-McNeely.pdf</td>\n",
       "      <td>http://sharkattackfile.net/spreadsheets/pdf_di...</td>\n",
       "      <td>http://sharkattackfile.net/spreadsheets/pdf_di...</td>\n",
       "      <td>2018.06.18</td>\n",
       "      <td>2018.06.18</td>\n",
       "      <td>6302.0</td>\n",
       "      <td>NaN</td>\n",
       "      <td>NaN</td>\n",
       "    </tr>\n",
       "    <tr>\n",
       "      <th>2</th>\n",
       "      <td>2018.06.09</td>\n",
       "      <td>09-Jun-2018</td>\n",
       "      <td>2018.0</td>\n",
       "      <td>Invalid</td>\n",
       "      <td>USA</td>\n",
       "      <td>Hawaii</td>\n",
       "      <td>Habush, Oahu</td>\n",
       "      <td>Surfing</td>\n",
       "      <td>John Denges</td>\n",
       "      <td>M</td>\n",
       "      <td>48</td>\n",
       "      <td>Injury to left lower leg from surfboard skeg</td>\n",
       "      <td>N</td>\n",
       "      <td>07h45</td>\n",
       "      <td>NaN</td>\n",
       "      <td>K.McMurray, TrackingSharks.com</td>\n",
       "      <td>2018.06.09-Denges.pdf</td>\n",
       "      <td>http://sharkattackfile.net/spreadsheets/pdf_di...</td>\n",
       "      <td>http://sharkattackfile.net/spreadsheets/pdf_di...</td>\n",
       "      <td>2018.06.09</td>\n",
       "      <td>2018.06.09</td>\n",
       "      <td>6301.0</td>\n",
       "      <td>NaN</td>\n",
       "      <td>NaN</td>\n",
       "    </tr>\n",
       "    <tr>\n",
       "      <th>3</th>\n",
       "      <td>2018.06.08</td>\n",
       "      <td>08-Jun-2018</td>\n",
       "      <td>2018.0</td>\n",
       "      <td>Unprovoked</td>\n",
       "      <td>AUSTRALIA</td>\n",
       "      <td>New South Wales</td>\n",
       "      <td>Arrawarra Headland</td>\n",
       "      <td>Surfing</td>\n",
       "      <td>male</td>\n",
       "      <td>M</td>\n",
       "      <td>NaN</td>\n",
       "      <td>Minor injury to lower leg</td>\n",
       "      <td>N</td>\n",
       "      <td>NaN</td>\n",
       "      <td>2 m shark</td>\n",
       "      <td>B. Myatt, GSAF</td>\n",
       "      <td>2018.06.08-Arrawarra.pdf</td>\n",
       "      <td>http://sharkattackfile.net/spreadsheets/pdf_di...</td>\n",
       "      <td>http://sharkattackfile.net/spreadsheets/pdf_di...</td>\n",
       "      <td>2018.06.08</td>\n",
       "      <td>2018.06.08</td>\n",
       "      <td>6300.0</td>\n",
       "      <td>NaN</td>\n",
       "      <td>NaN</td>\n",
       "    </tr>\n",
       "    <tr>\n",
       "      <th>4</th>\n",
       "      <td>2018.06.04</td>\n",
       "      <td>04-Jun-2018</td>\n",
       "      <td>2018.0</td>\n",
       "      <td>Provoked</td>\n",
       "      <td>MEXICO</td>\n",
       "      <td>Colima</td>\n",
       "      <td>La Ticla</td>\n",
       "      <td>Free diving</td>\n",
       "      <td>Gustavo Ramos</td>\n",
       "      <td>M</td>\n",
       "      <td>NaN</td>\n",
       "      <td>Lacerations to leg &amp; hand shark PROVOKED INCIDENT</td>\n",
       "      <td>N</td>\n",
       "      <td>NaN</td>\n",
       "      <td>Tiger shark, 3m</td>\n",
       "      <td>A .Kipper</td>\n",
       "      <td>2018.06.04-Ramos.pdf</td>\n",
       "      <td>http://sharkattackfile.net/spreadsheets/pdf_di...</td>\n",
       "      <td>http://sharkattackfile.net/spreadsheets/pdf_di...</td>\n",
       "      <td>2018.06.04</td>\n",
       "      <td>2018.06.04</td>\n",
       "      <td>6299.0</td>\n",
       "      <td>NaN</td>\n",
       "      <td>NaN</td>\n",
       "    </tr>\n",
       "  </tbody>\n",
       "</table>\n",
       "</div>"
      ],
      "text/plain": [
       "  Case Number         Date    Year        Type    Country             Area  \\\n",
       "0  2018.06.25  25-Jun-2018  2018.0     Boating        USA       California   \n",
       "1  2018.06.18  18-Jun-2018  2018.0  Unprovoked        USA          Georgia   \n",
       "2  2018.06.09  09-Jun-2018  2018.0     Invalid        USA           Hawaii   \n",
       "3  2018.06.08  08-Jun-2018  2018.0  Unprovoked  AUSTRALIA  New South Wales   \n",
       "4  2018.06.04  04-Jun-2018  2018.0    Provoked     MEXICO           Colima   \n",
       "\n",
       "                         Location     Activity             Name Sex   Age  \\\n",
       "0     Oceanside, San Diego County     Paddling      Julie Wolfe    F   57   \n",
       "1  St. Simon Island, Glynn County     Standing  Adyson McNeely     F   11   \n",
       "2                    Habush, Oahu      Surfing      John Denges    M   48   \n",
       "3              Arrawarra Headland      Surfing             male    M  NaN   \n",
       "4                        La Ticla  Free diving   Gustavo Ramos     M  NaN   \n",
       "\n",
       "                                              Injury Fatal (Y/N)  \\\n",
       "0  No injury to occupant, outrigger canoe and pad...           N   \n",
       "1                         Minor injury to left thigh           N   \n",
       "2       Injury to left lower leg from surfboard skeg           N   \n",
       "3                          Minor injury to lower leg           N   \n",
       "4  Lacerations to leg & hand shark PROVOKED INCIDENT           N   \n",
       "\n",
       "            Time         Species           Investigator or Source  \\\n",
       "0          18h00      White shark                R. Collier, GSAF   \n",
       "1  14h00  -15h00              NaN  K.McMurray, TrackingSharks.com   \n",
       "2          07h45              NaN  K.McMurray, TrackingSharks.com   \n",
       "3            NaN        2 m shark                  B. Myatt, GSAF   \n",
       "4            NaN  Tiger shark, 3m                       A .Kipper   \n",
       "\n",
       "                        pdf  \\\n",
       "0      2018.06.25-Wolfe.pdf   \n",
       "1    2018.06.18-McNeely.pdf   \n",
       "2     2018.06.09-Denges.pdf   \n",
       "3  2018.06.08-Arrawarra.pdf   \n",
       "4      2018.06.04-Ramos.pdf   \n",
       "\n",
       "                                        href formula  \\\n",
       "0  http://sharkattackfile.net/spreadsheets/pdf_di...   \n",
       "1  http://sharkattackfile.net/spreadsheets/pdf_di...   \n",
       "2  http://sharkattackfile.net/spreadsheets/pdf_di...   \n",
       "3  http://sharkattackfile.net/spreadsheets/pdf_di...   \n",
       "4  http://sharkattackfile.net/spreadsheets/pdf_di...   \n",
       "\n",
       "                                                href Case Number.1  \\\n",
       "0  http://sharkattackfile.net/spreadsheets/pdf_di...    2018.06.25   \n",
       "1  http://sharkattackfile.net/spreadsheets/pdf_di...    2018.06.18   \n",
       "2  http://sharkattackfile.net/spreadsheets/pdf_di...    2018.06.09   \n",
       "3  http://sharkattackfile.net/spreadsheets/pdf_di...    2018.06.08   \n",
       "4  http://sharkattackfile.net/spreadsheets/pdf_di...    2018.06.04   \n",
       "\n",
       "  Case Number.2  original order Unnamed: 22 Unnamed: 23  \n",
       "0    2018.06.25          6303.0         NaN         NaN  \n",
       "1    2018.06.18          6302.0         NaN         NaN  \n",
       "2    2018.06.09          6301.0         NaN         NaN  \n",
       "3    2018.06.08          6300.0         NaN         NaN  \n",
       "4    2018.06.04          6299.0         NaN         NaN  "
      ]
     },
     "execution_count": 4,
     "metadata": {},
     "output_type": "execute_result"
    }
   ],
   "source": [
    "shark.head()"
   ]
  },
  {
   "cell_type": "code",
   "execution_count": 5,
   "id": "cbd1da2f",
   "metadata": {},
   "outputs": [
    {
     "data": {
      "text/plain": [
       "Case Number               17021\n",
       "Date                      19421\n",
       "Year                      19423\n",
       "Type                      19425\n",
       "Country                   19471\n",
       "Area                      19876\n",
       "Location                  19961\n",
       "Activity                  19965\n",
       "Name                      19631\n",
       "Sex                       19986\n",
       "Age                       22252\n",
       "Injury                    19449\n",
       "Fatal (Y/N)               19960\n",
       "Time                      22775\n",
       "Species                   22259\n",
       "Investigator or Source    19438\n",
       "pdf                       19421\n",
       "href formula              19422\n",
       "href                      19421\n",
       "Case Number.1             19421\n",
       "Case Number.2             19421\n",
       "original order            19414\n",
       "Unnamed: 22               25722\n",
       "Unnamed: 23               25721\n",
       "dtype: int64"
      ]
     },
     "execution_count": 5,
     "metadata": {},
     "output_type": "execute_result"
    }
   ],
   "source": [
    "nan_cols=shark.isna().sum()\n",
    "nan_cols[nan_cols>0]"
   ]
  },
  {
   "cell_type": "code",
   "execution_count": 6,
   "id": "514e46d0",
   "metadata": {},
   "outputs": [],
   "source": [
    "def check_nan(df):\n",
    "    \n",
    "    nan_cols=shark.isna().mean() * 100\n",
    "    \n",
    "    display(f'N nan cols: {len(nan_cols[nan_cols>0])}')\n",
    "    display(nan_cols[nan_cols>0])\n",
    "    \n",
    "    plt.figure(figsize=(10, 6))\n",
    "\n",
    "    sns.heatmap(df.isna(),  # mapa de calor\n",
    "                yticklabels=False,\n",
    "                cmap='viridis',\n",
    "                cbar=False)\n",
    "    \n",
    "    plt.show();"
   ]
  },
  {
   "cell_type": "code",
   "execution_count": 7,
   "id": "ec88e9ef",
   "metadata": {},
   "outputs": [
    {
     "data": {
      "text/plain": [
       "'N nan cols: 24'"
      ]
     },
     "metadata": {},
     "output_type": "display_data"
    },
    {
     "data": {
      "text/plain": [
       "Case Number               66.170353\n",
       "Date                      75.500525\n",
       "Year                      75.508300\n",
       "Type                      75.516075\n",
       "Country                   75.694903\n",
       "Area                      77.269370\n",
       "Location                  77.599813\n",
       "Activity                  77.615364\n",
       "Name                      76.316915\n",
       "Sex                       77.697003\n",
       "Age                       86.506240\n",
       "Injury                    75.609377\n",
       "Fatal (Y/N)               77.595926\n",
       "Time                      88.539439\n",
       "Species                   86.533453\n",
       "Investigator or Source    75.566614\n",
       "pdf                       75.500525\n",
       "href formula              75.504412\n",
       "href                      75.500525\n",
       "Case Number.1             75.500525\n",
       "Case Number.2             75.500525\n",
       "original order            75.473312\n",
       "Unnamed: 22               99.996112\n",
       "Unnamed: 23               99.992225\n",
       "dtype: float64"
      ]
     },
     "metadata": {},
     "output_type": "display_data"
    },
    {
     "data": {
      "image/png": "[encoded data removed]",
      "text/plain": [
       "<Figure size 720x432 with 1 Axes>"
      ]
     },
     "metadata": {
      "needs_background": "light"
     },
     "output_type": "display_data"
    }
   ],
   "source": [
    "check_nan(shark)"
   ]
  },
  {
   "cell_type": "code",
   "execution_count": 8,
   "id": "cd850f0b",
   "metadata": {},
   "outputs": [
    {
     "data": {
      "text/plain": [
       "Int64Index([ 8702,  8703,  8704,  8705,  8706,  8707,  8708,  8709,  8710,\n",
       "             8711,\n",
       "            ...\n",
       "            25712, 25713, 25714, 25715, 25716, 25717, 25718, 25719, 25720,\n",
       "            25721],\n",
       "           dtype='int64', length=17020)"
      ]
     },
     "execution_count": 8,
     "metadata": {},
     "output_type": "execute_result"
    }
   ],
   "source": [
    "#lista de filas en las que todos los valores son nulos\n",
    "\n",
    "nan_rows=shark.index[shark.isnull().all(1)] \n",
    "nan_rows"
   ]
  },
  {
   "cell_type": "markdown",
   "id": "da91c745",
   "metadata": {},
   "source": [
    "Podemos eliminar 5145 filas (hasta el 20%) "
   ]
  },
  {
   "cell_type": "code",
   "execution_count": 9,
   "id": "74ef2b32",
   "metadata": {},
   "outputs": [],
   "source": [
    "rows_eliminate=[]\n",
    "\n",
    "for i in range(5145):\n",
    "    \n",
    "    rows_eliminate.append(nan_rows[i])\n",
    "    "
   ]
  },
  {
   "cell_type": "code",
   "execution_count": 10,
   "id": "5ecc16e5",
   "metadata": {},
   "outputs": [
    {
     "data": {
      "text/plain": [
       "5145"
      ]
     },
     "execution_count": 10,
     "metadata": {},
     "output_type": "execute_result"
    }
   ],
   "source": [
    "len(rows_eliminate)"
   ]
  },
  {
   "cell_type": "code",
   "execution_count": 11,
   "id": "e037cc87",
   "metadata": {},
   "outputs": [],
   "source": [
    "shark.drop(rows_eliminate,axis=0,inplace=True)"
   ]
  },
  {
   "cell_type": "code",
   "execution_count": 12,
   "id": "58c36f12",
   "metadata": {},
   "outputs": [
    {
     "data": {
      "text/plain": [
       "(20578, 24)"
      ]
     },
     "execution_count": 12,
     "metadata": {},
     "output_type": "execute_result"
    }
   ],
   "source": [
    "shark.shape"
   ]
  },
  {
   "cell_type": "markdown",
   "id": "9c99c35c",
   "metadata": {},
   "source": [
    "Ya hemos eliminado el mayor numero de filas con todo nulos que podemos"
   ]
  },
  {
   "cell_type": "markdown",
   "id": "ddac4bb5",
   "metadata": {},
   "source": [
    "# ELIMINANDO NULOS"
   ]
  },
  {
   "cell_type": "code",
   "execution_count": 13,
   "id": "2ff5a6c4",
   "metadata": {},
   "outputs": [
    {
     "name": "stdout",
     "output_type": "stream",
     "text": [
      "<class 'pandas.core.frame.DataFrame'>\n",
      "Int64Index: 20578 entries, 0 to 25722\n",
      "Data columns (total 24 columns):\n",
      " #   Column                  Non-Null Count  Dtype  \n",
      "---  ------                  --------------  -----  \n",
      " 0   Case Number             8702 non-null   object \n",
      " 1   Date                    6302 non-null   object \n",
      " 2   Year                    6300 non-null   float64\n",
      " 3   Type                    6298 non-null   object \n",
      " 4   Country                 6252 non-null   object \n",
      " 5   Area                    5847 non-null   object \n",
      " 6   Location                5762 non-null   object \n",
      " 7   Activity                5758 non-null   object \n",
      " 8   Name                    6092 non-null   object \n",
      " 9   Sex                     5737 non-null   object \n",
      " 10  Age                     3471 non-null   object \n",
      " 11  Injury                  6274 non-null   object \n",
      " 12  Fatal (Y/N)             5763 non-null   object \n",
      " 13  Time                    2948 non-null   object \n",
      " 14  Species                 3464 non-null   object \n",
      " 15  Investigator or Source  6285 non-null   object \n",
      " 16  pdf                     6302 non-null   object \n",
      " 17  href formula            6301 non-null   object \n",
      " 18  href                    6302 non-null   object \n",
      " 19  Case Number.1           6302 non-null   object \n",
      " 20  Case Number.2           6302 non-null   object \n",
      " 21  original order          6309 non-null   float64\n",
      " 22  Unnamed: 22             1 non-null      object \n",
      " 23  Unnamed: 23             2 non-null      object \n",
      "dtypes: float64(2), object(22)\n",
      "memory usage: 3.9+ MB\n"
     ]
    }
   ],
   "source": [
    "shark.info()"
   ]
  },
  {
   "cell_type": "markdown",
   "id": "8b34285f",
   "metadata": {},
   "source": [
    "### Columnas \"Unnamed\""
   ]
  },
  {
   "cell_type": "markdown",
   "id": "68a81615",
   "metadata": {},
   "source": [
    "Ambas columnas están completamente vacias por lo que las vamos a rellenar de ceros"
   ]
  },
  {
   "cell_type": "code",
   "execution_count": 14,
   "id": "4be5fa59",
   "metadata": {},
   "outputs": [],
   "source": [
    "shark[\"Unnamed: 22\"]=0\n",
    "shark[\"Unnamed: 23\"]=0"
   ]
  },
  {
   "cell_type": "markdown",
   "id": "d05de9e9",
   "metadata": {},
   "source": [
    "### Columnas con categorias  "
   ]
  },
  {
   "cell_type": "markdown",
   "id": "7c78074f",
   "metadata": {},
   "source": [
    "Las columnas que son categorias como (type, country, Area, location, Activity, Name, Sex, Age, Injury, Fatal...) las vamos a rellenar sus NAN con unknown por el momento ya que si no hay valor es que en principio no tenemos información."
   ]
  },
  {
   "cell_type": "code",
   "execution_count": 15,
   "id": "747cd54b",
   "metadata": {},
   "outputs": [],
   "source": [
    "shark[[\"Type\",\"Country\",\"Area\",\"Location\",\"Activity\",\"Name\",\"Sex \",\"Age\",\"Injury\",\"Fatal (Y/N)\",\"Time\",\"Species \",\"Investigator or Source\",\"pdf\",\"href formula\",\"href\"]]=shark[[\"Type\",\"Country\",\"Area\",\"Location\",\"Activity\",\"Name\",\"Sex \",\"Age\",\"Injury\",\"Fatal (Y/N)\",\"Time\",\"Species \",\"Investigator or Source\",\"pdf\",\"href formula\",\"href\"]].fillna(\"Unknown\")"
   ]
  },
  {
   "cell_type": "code",
   "execution_count": 16,
   "id": "55a2cbc2",
   "metadata": {},
   "outputs": [
    {
     "data": {
      "text/plain": [
       "'N nan cols: 6'"
      ]
     },
     "metadata": {},
     "output_type": "display_data"
    },
    {
     "data": {
      "text/plain": [
       "Case Number       57.712120\n",
       "Date              69.375061\n",
       "Year              69.384780\n",
       "Case Number.1     69.375061\n",
       "Case Number.2     69.375061\n",
       "original order    69.341044\n",
       "dtype: float64"
      ]
     },
     "metadata": {},
     "output_type": "display_data"
    },
    {
     "data": {
      "image/png": "[encoded data removed]",
      "text/plain": [
       "<Figure size 720x432 with 1 Axes>"
      ]
     },
     "metadata": {
      "needs_background": "light"
     },
     "output_type": "display_data"
    }
   ],
   "source": [
    "check_nan(shark)"
   ]
  },
  {
   "cell_type": "markdown",
   "id": "b7597c7c",
   "metadata": {},
   "source": [
    "### Columnas Case Number"
   ]
  },
  {
   "cell_type": "markdown",
   "id": "1e7986f9",
   "metadata": {},
   "source": [
    "La columna Case number son fechas, por lo que finalmente vamos a querer tenerla como date type. Antes de eliminar los nulos vamos a limpiarla de manera que solo nos queden fechas"
   ]
  },
  {
   "cell_type": "code",
   "execution_count": 17,
   "id": "c5b48f5d",
   "metadata": {},
   "outputs": [],
   "source": [
    "shark[\"Case Number\"]=shark[\"Case Number\"].str.extract(r'(\\d\\d\\d\\d.\\d\\d.\\d\\d)') "
   ]
  },
  {
   "cell_type": "markdown",
   "id": "16610d83",
   "metadata": {},
   "source": [
    "He usado Regex para seleccionar las fechas en formato yyyy.mm.dd, de esta manera los elementos del final que son i.e ND-0154 se eliminan ya que no sabemos si esos números hace referencia al año, dia, mes....\n",
    "\n",
    "Rellenamos los nan con la última fecha disponible ya que es la mas cercana"
   ]
  },
  {
   "cell_type": "code",
   "execution_count": 18,
   "id": "0ae2c8dc",
   "metadata": {},
   "outputs": [],
   "source": [
    "shark[\"Case Number\"]=shark[\"Case Number\"].str.replace('.', '-')"
   ]
  },
  {
   "cell_type": "code",
   "execution_count": 19,
   "id": "86d7c746",
   "metadata": {},
   "outputs": [
    {
     "data": {
      "text/plain": [
       "25718    NaN\n",
       "25719    NaN\n",
       "25720    NaN\n",
       "25721    NaN\n",
       "25722    NaN\n",
       "Name: Case Number, dtype: object"
      ]
     },
     "execution_count": 19,
     "metadata": {},
     "output_type": "execute_result"
    }
   ],
   "source": [
    "shark[\"Case Number\"].tail()"
   ]
  },
  {
   "cell_type": "code",
   "execution_count": 20,
   "id": "ffe5c86c",
   "metadata": {},
   "outputs": [],
   "source": [
    "shark.replace({\"Case Number\":{\"00\":\"01\",\"/\":\"-\",\",\":\"-\",\"2014-17-28\":\"2014-12-28\"}},inplace=True)"
   ]
  },
  {
   "cell_type": "markdown",
   "id": "aebb505d",
   "metadata": {},
   "source": [
    "Cambiamos el tipo de dato da \"datetime\" con \"errors=corerce\""
   ]
  },
  {
   "cell_type": "code",
   "execution_count": 21,
   "id": "eed0823b",
   "metadata": {},
   "outputs": [],
   "source": [
    "shark[\"Case Number\"]=pd.to_datetime(shark[\"Case Number\"], format='%Y-%m-%d',errors = 'coerce')"
   ]
  },
  {
   "cell_type": "markdown",
   "id": "f636cf59",
   "metadata": {},
   "source": [
    "Rellenamos los valores nulos con la última fecha disponible ya que será la más cercana de las que tenemos"
   ]
  },
  {
   "cell_type": "code",
   "execution_count": 22,
   "id": "891ef566",
   "metadata": {},
   "outputs": [],
   "source": [
    "shark[\"Case Number\"].fillna(method=\"ffill\",inplace=True)"
   ]
  },
  {
   "cell_type": "markdown",
   "id": "951027b8",
   "metadata": {},
   "source": [
    "Sobreescribimos columna Case Number.1 y 2 ya que hemos hecho:\n",
    "len(shark.drop_duplicates(subset=[\"Case Number.1\",\"Case Number.2\"]))==len(shark) \n",
    "y hemos visto que son exactamente iguales a \"Case Number\""
   ]
  },
  {
   "cell_type": "code",
   "execution_count": 23,
   "id": "d7a5de29",
   "metadata": {},
   "outputs": [],
   "source": [
    "shark[\"Case Number.1\"]=shark[\"Case Number\"]"
   ]
  },
  {
   "cell_type": "code",
   "execution_count": 24,
   "id": "7875e4ec",
   "metadata": {},
   "outputs": [],
   "source": [
    "shark[\"Case Number.2\"]=shark[\"Case Number\"]"
   ]
  },
  {
   "cell_type": "markdown",
   "id": "de8c4fb4",
   "metadata": {},
   "source": [
    "Hacemos lo mismo con la columna \"Date\""
   ]
  },
  {
   "cell_type": "code",
   "execution_count": 25,
   "id": "d96abaec",
   "metadata": {},
   "outputs": [],
   "source": [
    "shark[\"Date\"]=shark[\"Case Number\"]"
   ]
  },
  {
   "cell_type": "code",
   "execution_count": 26,
   "id": "fa271c57",
   "metadata": {},
   "outputs": [
    {
     "data": {
      "text/plain": [
       "'N nan cols: 2'"
      ]
     },
     "metadata": {},
     "output_type": "display_data"
    },
    {
     "data": {
      "text/plain": [
       "Year              69.384780\n",
       "original order    69.341044\n",
       "dtype: float64"
      ]
     },
     "metadata": {},
     "output_type": "display_data"
    },
    {
     "data": {
      "image/png": "[encoded data removed]",
      "text/plain": [
       "<Figure size 720x432 with 1 Axes>"
      ]
     },
     "metadata": {
      "needs_background": "light"
     },
     "output_type": "display_data"
    }
   ],
   "source": [
    "check_nan(shark)"
   ]
  },
  {
   "cell_type": "markdown",
   "id": "39a10c3a",
   "metadata": {},
   "source": [
    "### Columna \"Year\""
   ]
  },
  {
   "cell_type": "code",
   "execution_count": 27,
   "id": "e38e05fb",
   "metadata": {},
   "outputs": [],
   "source": [
    "pd.set_option(\"display.max_rows\",None)\n"
   ]
  },
  {
   "cell_type": "markdown",
   "id": "5a466d6c",
   "metadata": {},
   "source": [
    "Como los años van en orden, vamos a rellenar los nulos con el año equivalente a su índice en la columa Date"
   ]
  },
  {
   "cell_type": "code",
   "execution_count": 28,
   "id": "3026bcef",
   "metadata": {},
   "outputs": [
    {
     "data": {
      "text/plain": [
       "0    2018.0\n",
       "1    2018.0\n",
       "2    2018.0\n",
       "3    2018.0\n",
       "4    2018.0\n",
       "Name: Year, dtype: float64"
      ]
     },
     "execution_count": 28,
     "metadata": {},
     "output_type": "execute_result"
    }
   ],
   "source": [
    "shark.Year.head()"
   ]
  },
  {
   "cell_type": "code",
   "execution_count": 29,
   "id": "0fc68bb1",
   "metadata": {},
   "outputs": [
    {
     "data": {
      "text/plain": [
       "Int64Index([  187,  6079,  6302,  6303,  6304,  6305,  6306,  6307,  6308,\n",
       "             6309,\n",
       "            ...\n",
       "            25713, 25714, 25715, 25716, 25717, 25718, 25719, 25720, 25721,\n",
       "            25722],\n",
       "           dtype='int64', length=14278)"
      ]
     },
     "execution_count": 29,
     "metadata": {},
     "output_type": "execute_result"
    }
   ],
   "source": [
    "nan_rows=shark[shark['Year'].isna()].index\n",
    "nan_rows"
   ]
  },
  {
   "cell_type": "markdown",
   "id": "18b227fb",
   "metadata": {},
   "source": [
    "Como la columna Date tiene formato yyyy-mm-dd, queremos que solo se queden los 4 primeros números. Es decir, el año"
   ]
  },
  {
   "cell_type": "code",
   "execution_count": 30,
   "id": "c7a32c0f",
   "metadata": {},
   "outputs": [],
   "source": [
    "shark[\"años_date\"]=shark[\"Date\"]"
   ]
  },
  {
   "cell_type": "code",
   "execution_count": 31,
   "id": "1063ccb6",
   "metadata": {},
   "outputs": [],
   "source": [
    "shark[\"años_date\"]=shark[\"años_date\"].astype(dtype=\"str\")"
   ]
  },
  {
   "cell_type": "code",
   "execution_count": 32,
   "id": "1a1a8034",
   "metadata": {},
   "outputs": [],
   "source": [
    "shark[\"años_date\"]=shark[\"años_date\"][nan_rows].str.extract('(\\d\\d\\d\\d)')"
   ]
  },
  {
   "cell_type": "code",
   "execution_count": 33,
   "id": "13914719",
   "metadata": {},
   "outputs": [],
   "source": [
    "shark.Year[nan_rows]=shark[\"años_date\"][nan_rows]"
   ]
  },
  {
   "cell_type": "markdown",
   "id": "33d06d05",
   "metadata": {},
   "source": [
    "Eliminamos la columna \"años_date\" ya que no la necesitamos más"
   ]
  },
  {
   "cell_type": "code",
   "execution_count": 34,
   "id": "06200f57",
   "metadata": {},
   "outputs": [],
   "source": [
    "shark.drop(\"años_date\",axis=1,inplace=True)"
   ]
  },
  {
   "cell_type": "markdown",
   "id": "ddcbdbd9",
   "metadata": {},
   "source": [
    "### Columna original order"
   ]
  },
  {
   "cell_type": "code",
   "execution_count": 35,
   "id": "97dcf41b",
   "metadata": {},
   "outputs": [
    {
     "data": {
      "text/plain": [
       "0    6303.0\n",
       "1    6302.0\n",
       "2    6301.0\n",
       "3    6300.0\n",
       "4    6299.0\n",
       "Name: original order, dtype: float64"
      ]
     },
     "execution_count": 35,
     "metadata": {},
     "output_type": "execute_result"
    }
   ],
   "source": [
    "shark[\"original order\"].head()"
   ]
  },
  {
   "cell_type": "code",
   "execution_count": 36,
   "id": "0d995516",
   "metadata": {},
   "outputs": [
    {
     "data": {
      "text/plain": [
       "Int64Index([ 6309,  6310,  6311,  6312,  6313,  6314,  6315,  6316,  6317,\n",
       "             6318,\n",
       "            ...\n",
       "            25713, 25714, 25715, 25716, 25717, 25718, 25719, 25720, 25721,\n",
       "            25722],\n",
       "           dtype='int64', length=14269)"
      ]
     },
     "execution_count": 36,
     "metadata": {},
     "output_type": "execute_result"
    }
   ],
   "source": [
    "nan_rows=shark[shark['original order'].isna()].index\n",
    "nan_rows"
   ]
  },
  {
   "cell_type": "code",
   "execution_count": 37,
   "id": "6e3396c1",
   "metadata": {},
   "outputs": [],
   "source": [
    "for i in nan_rows:\n",
    "    \n",
    "    shark[\"original order\"][nan_rows]=i+2\n"
   ]
  },
  {
   "cell_type": "code",
   "execution_count": 38,
   "id": "d0faf502",
   "metadata": {},
   "outputs": [
    {
     "data": {
      "text/plain": [
       "'N nan cols: 0'"
      ]
     },
     "metadata": {},
     "output_type": "display_data"
    },
    {
     "data": {
      "text/plain": [
       "Series([], dtype: float64)"
      ]
     },
     "metadata": {},
     "output_type": "display_data"
    },
    {
     "data": {
      "image/png": "[encoded data removed]",
      "text/plain": [
       "<Figure size 720x432 with 1 Axes>"
      ]
     },
     "metadata": {
      "needs_background": "light"
     },
     "output_type": "display_data"
    }
   ],
   "source": [
    "check_nan(shark)"
   ]
  },
  {
   "cell_type": "markdown",
   "id": "02181d7f",
   "metadata": {},
   "source": [
    "Ya hemos eliminado todos los nulos"
   ]
  },
  {
   "cell_type": "markdown",
   "id": "34e7fcc0",
   "metadata": {},
   "source": [
    "# LIMPIEZA DE COLUMNAS"
   ]
  },
  {
   "cell_type": "markdown",
   "id": "82691ba4",
   "metadata": {},
   "source": [
    "### Columna \"Age\""
   ]
  },
  {
   "cell_type": "code",
   "execution_count": 39,
   "id": "28a98c33",
   "metadata": {},
   "outputs": [
    {
     "data": {
      "text/plain": [
       "0         57\n",
       "1         11\n",
       "2         48\n",
       "3    Unknown\n",
       "4    Unknown\n",
       "Name: Age, dtype: object"
      ]
     },
     "execution_count": 39,
     "metadata": {},
     "output_type": "execute_result"
    }
   ],
   "source": [
    "shark.Age.head()"
   ]
  },
  {
   "cell_type": "markdown",
   "id": "a50e0db8",
   "metadata": {},
   "source": [
    "\n",
    "Vamos a rellenar los nulos de la columna age con la media de edad de los datos que tenemos ya que nos conviene mantener en la columna todo valores numéricos en lugar de añadir alguna categoría como \"unknown\", por lo que vamos a sustituir los \"unknown\" que habiamos puesto antes por la media"
   ]
  },
  {
   "cell_type": "markdown",
   "id": "6f2caa33",
   "metadata": {},
   "source": [
    "Hay valores que tienen letras, por lo que cogemos solo los valores numéricos"
   ]
  },
  {
   "cell_type": "code",
   "execution_count": 40,
   "id": "3d83c174",
   "metadata": {},
   "outputs": [],
   "source": [
    "shark[\"Age\"]=shark.Age.str.extract(r'(\\d\\d)')"
   ]
  },
  {
   "cell_type": "code",
   "execution_count": 41,
   "id": "a33731fa",
   "metadata": {},
   "outputs": [],
   "source": [
    "shark.Age.fillna(0,inplace=True)"
   ]
  },
  {
   "cell_type": "code",
   "execution_count": 42,
   "id": "5a14c5b0",
   "metadata": {},
   "outputs": [],
   "source": [
    "shark.Age=shark.Age.astype(dtype=\"int8\")"
   ]
  },
  {
   "cell_type": "code",
   "execution_count": 43,
   "id": "b48f7344",
   "metadata": {},
   "outputs": [],
   "source": [
    "shark.Age.replace(0, shark.Age.mean(),inplace=True) #sustituimos los 0 por la media "
   ]
  },
  {
   "cell_type": "markdown",
   "id": "4fef6168",
   "metadata": {},
   "source": [
    "### Columna \"Sex\""
   ]
  },
  {
   "cell_type": "code",
   "execution_count": 44,
   "id": "280a1d84",
   "metadata": {},
   "outputs": [],
   "source": [
    "shark.rename(columns={\"Sex \":\"Sex\"},inplace=True) #renombramos la columna para quitar el espacio"
   ]
  },
  {
   "cell_type": "code",
   "execution_count": 45,
   "id": "199745ef",
   "metadata": {},
   "outputs": [
    {
     "data": {
      "text/plain": [
       "array(['F', 'M', 'Unknown', 'M ', 'lli', 'N', '.'], dtype=object)"
      ]
     },
     "execution_count": 45,
     "metadata": {},
     "output_type": "execute_result"
    }
   ],
   "source": [
    "shark.Sex.unique()"
   ]
  },
  {
   "cell_type": "markdown",
   "id": "e4d5d923",
   "metadata": {},
   "source": [
    "Queremos dejar solo 3 categorias: F, M, Unknown, por lo que vamos a sustituir las otras"
   ]
  },
  {
   "cell_type": "code",
   "execution_count": 46,
   "id": "92b17992",
   "metadata": {},
   "outputs": [],
   "source": [
    "shark.replace({\"Sex\":{\"M \":\"M\",\"lli\":\"Unknown\",\"N\":\"M\",\".\":\"Unknown\",\"Afternoon\":\"Unknown\",\"Morning\":\"Unknown\",\"Late Afternoon\":\"Unknown\"}},inplace=True)"
   ]
  },
  {
   "cell_type": "code",
   "execution_count": 47,
   "id": "9e80d7d2",
   "metadata": {},
   "outputs": [
    {
     "data": {
      "text/plain": [
       "array(['F', 'M', 'Unknown'], dtype=object)"
      ]
     },
     "execution_count": 47,
     "metadata": {},
     "output_type": "execute_result"
    }
   ],
   "source": [
    "shark.Sex.unique()"
   ]
  },
  {
   "cell_type": "markdown",
   "id": "d0ee1adb",
   "metadata": {},
   "source": [
    "### Columna \"Name\""
   ]
  },
  {
   "cell_type": "markdown",
   "id": "10f65e9f",
   "metadata": {},
   "source": [
    "En esta columna quiero dejar el contenido de cada elemento limpio, pero no voy a decidir yo si es un nombre o no, por lo que voy a quitar signos de puntuación,números..."
   ]
  },
  {
   "cell_type": "code",
   "execution_count": 48,
   "id": "5cac1d42",
   "metadata": {},
   "outputs": [],
   "source": [
    "shark.replace({\"Name\":{\"male\":\"Unknown\",\".\":\"\",\":\":\"\",\"Occupant\":\"\",\"occupants\":\"\"}},inplace=True)"
   ]
  },
  {
   "cell_type": "markdown",
   "id": "66298df2",
   "metadata": {},
   "source": [
    "Luego quizás intente limpiar más la columna, pero por el momento avanzamos"
   ]
  },
  {
   "cell_type": "markdown",
   "id": "eed92192",
   "metadata": {},
   "source": [
    "### Columna \"Species\""
   ]
  },
  {
   "cell_type": "markdown",
   "id": "0a88c9b9",
   "metadata": {},
   "source": [
    "Esta columna está hecha un desastre, solo me van a interesar aquellas que especifiquen el tipo de tiburón por lo que voy a coger solo la primera palabra antes de \"shark\" i.e. the white shark cojo \"white\" >> luego podemos seguir limpiando"
   ]
  },
  {
   "cell_type": "code",
   "execution_count": 49,
   "id": "334b3dfb",
   "metadata": {},
   "outputs": [],
   "source": [
    "shark.rename(columns={\"Species \":\"Species\"},inplace=True) #Renombramos para quitar el espacio"
   ]
  },
  {
   "cell_type": "code",
   "execution_count": 50,
   "id": "02394064",
   "metadata": {},
   "outputs": [],
   "source": [
    "shark.Species=shark.Species.str.extract(r'(\\w+)\\s+shark')"
   ]
  },
  {
   "cell_type": "code",
   "execution_count": 51,
   "id": "de96fc2f",
   "metadata": {},
   "outputs": [],
   "source": [
    "shark.Species.fillna(\"Unknown\",inplace=True)"
   ]
  },
  {
   "cell_type": "code",
   "execution_count": 52,
   "id": "e049f6ec",
   "metadata": {},
   "outputs": [
    {
     "data": {
      "text/plain": [
       "array(['White', 'Unknown', 'm', 'Tiger', 'Lemon', 'Bull', 'reef', 'nurse',\n",
       "       'bull', 'Wobbegong', 'Blacktip', 'white', 'a', 'Galapagos', '2m',\n",
       "       'small', 'Nurse', 'blue', 'Cookiecutter', 'Spinner', 'blacktip',\n",
       "       'whitetip', 'Sandtiger', 'Blue', 'No', 'gill', '3m', 'sevengill',\n",
       "       'Angel', 'dogfish', 'Mako', 'whaler', 'Reef', 'Silky', 'juvenile',\n",
       "       'Hammerhead', 'spinner', 'but', 'foot', 'Raggedtooth', 'Goblin',\n",
       "       'tiger', 'metre', 'Sandbar', 'Cow', '1m', 'Salmon', 'Porbeagle',\n",
       "       'Jackson', 'sandtiger', 'Sevengill', 'Zambesi', 'lemon', '30kg',\n",
       "       'hammerhead', 'Thresher', 'whale', 'kg', 'cutter', 'Dusky',\n",
       "       'smoothhound', 'Basking', 'as', 'Sand', 'mako', 'sandbar', 'same',\n",
       "       'copper', '2', 'brown', 'colored', 'cow', 'sand', 'captive',\n",
       "       'bonnethed', 'finned', 'dusky', 'Soupfin', 'young', 'Leopard',\n",
       "       'Small', 'Unidentified', 'grey', 'female', 'Two', 'lb', 'gaffed',\n",
       "       'silvertip', 'Zambezi', '50', 'silky', 'gray', 'thresher', 'Whale',\n",
       "       'Carpet', 'Copper', 'porbeagle', 'Dog', '6', 'for', 'carpet', '8',\n",
       "       'cm', 'red', 'banjo', 'hooked', 'larger', 'Several', 'carcharinid',\n",
       "       'another', 'of', 'little', '5m', 'Bonita', 'Whaler', 'leopard',\n",
       "       'large', 'Shovelnose', 'nose', 'nosed', '3', 'dog', 'cocktail',\n",
       "       '7', 'carcharhinid', 'whiptail', 'the', 'saw', 'from', 'ground',\n",
       "       'Silvertip', 'tipped'], dtype=object)"
      ]
     },
     "execution_count": 52,
     "metadata": {},
     "output_type": "execute_result"
    }
   ],
   "source": [
    "shark.Species.unique()"
   ]
  },
  {
   "cell_type": "code",
   "execution_count": 53,
   "id": "59f30d1c",
   "metadata": {},
   "outputs": [],
   "source": [
    "shark.replace({\"Species\":{\" m \":\"Unknown\",\"\\d\":\"Unknown\",\"same\":\"\",\"Unknown\":\"\",\"as\":\"Unknown\",\"the\":\"unknown\"}},inplace=True)"
   ]
  },
  {
   "cell_type": "code",
   "execution_count": 54,
   "id": "61c2ba35",
   "metadata": {},
   "outputs": [],
   "source": [
    "shark.replace({\"Species\":{\"\\d\":\"unknown\"}},inplace=True)"
   ]
  },
  {
   "cell_type": "code",
   "execution_count": 55,
   "id": "f49c7d6f",
   "metadata": {},
   "outputs": [
    {
     "data": {
      "text/plain": [
       "array(['White', '', 'm', 'Tiger', 'Lemon', 'Bull', 'reef', 'nurse',\n",
       "       'bull', 'Wobbegong', 'Blacktip', 'white', 'a', 'Galapagos', '2m',\n",
       "       'small', 'Nurse', 'blue', 'Cookiecutter', 'Spinner', 'blacktip',\n",
       "       'whitetip', 'Sandtiger', 'Blue', 'No', 'gill', '3m', 'sevengill',\n",
       "       'Angel', 'dogfish', 'Mako', 'whaler', 'Reef', 'Silky', 'juvenile',\n",
       "       'Hammerhead', 'spinner', 'but', 'foot', 'Raggedtooth', 'Goblin',\n",
       "       'tiger', 'metre', 'Sandbar', 'Cow', '1m', 'Salmon', 'Porbeagle',\n",
       "       'Jackson', 'sandtiger', 'Sevengill', 'Zambesi', 'lemon', '30kg',\n",
       "       'hammerhead', 'Thresher', 'whale', 'kg', 'cutter', 'Dusky',\n",
       "       'smoothhound', 'Basking', 'Unknown', 'Sand', 'mako', 'sandbar',\n",
       "       'copper', '2', 'brown', 'colored', 'cow', 'sand', 'captive',\n",
       "       'bonnethed', 'finned', 'dusky', 'Soupfin', 'young', 'Leopard',\n",
       "       'Small', 'Unidentified', 'grey', 'female', 'Two', 'lb', 'gaffed',\n",
       "       'silvertip', 'Zambezi', '50', 'silky', 'gray', 'thresher', 'Whale',\n",
       "       'Carpet', 'Copper', 'porbeagle', 'Dog', '6', 'for', 'carpet', '8',\n",
       "       'cm', 'red', 'banjo', 'hooked', 'larger', 'Several', 'carcharinid',\n",
       "       'another', 'of', 'little', '5m', 'Bonita', 'Whaler', 'leopard',\n",
       "       'large', 'Shovelnose', 'nose', 'nosed', '3', 'dog', 'cocktail',\n",
       "       '7', 'carcharhinid', 'whiptail', 'unknown', 'saw', 'from',\n",
       "       'ground', 'Silvertip', 'tipped'], dtype=object)"
      ]
     },
     "execution_count": 55,
     "metadata": {},
     "output_type": "execute_result"
    }
   ],
   "source": [
    "shark.Species.unique()"
   ]
  },
  {
   "cell_type": "markdown",
   "id": "8a5dfe6f",
   "metadata": {},
   "source": [
    "### Columna Time"
   ]
  },
  {
   "cell_type": "code",
   "execution_count": 56,
   "id": "f787cd07",
   "metadata": {},
   "outputs": [
    {
     "data": {
      "text/plain": [
       "0            18h00\n",
       "1    14h00  -15h00\n",
       "2            07h45\n",
       "3          Unknown\n",
       "4          Unknown\n",
       "Name: Time, dtype: object"
      ]
     },
     "execution_count": 56,
     "metadata": {},
     "output_type": "execute_result"
    }
   ],
   "source": [
    "shark.Time.head()"
   ]
  },
  {
   "cell_type": "markdown",
   "id": "558b056c",
   "metadata": {},
   "source": [
    "Vamos a crear una nueva columna \"nuevo_time\" que nos coja la hora a la que ha sido el ataque"
   ]
  },
  {
   "cell_type": "code",
   "execution_count": 57,
   "id": "a4647c67",
   "metadata": {},
   "outputs": [],
   "source": [
    "shark[\"nuevo_time\"]=shark.Time.str.extract(r'(\\d\\d)')"
   ]
  },
  {
   "cell_type": "code",
   "execution_count": 58,
   "id": "eacd9d25",
   "metadata": {},
   "outputs": [],
   "source": [
    "shark[\"nuevo_time\"].fillna(\"0\",inplace=True)"
   ]
  },
  {
   "cell_type": "code",
   "execution_count": 59,
   "id": "c2efe34c",
   "metadata": {},
   "outputs": [],
   "source": [
    "shark[\"nuevo_time\"]=shark[\"nuevo_time\"].astype(dtype=\"int16\")"
   ]
  },
  {
   "cell_type": "markdown",
   "id": "9b30d493",
   "metadata": {},
   "source": [
    "Vamos a categorizar la columna Time de manera que tengamos tres opciones: \"Morning\", \"Afternoon\", \"Late Afternoon\""
   ]
  },
  {
   "cell_type": "code",
   "execution_count": 60,
   "id": "fbc224e4",
   "metadata": {},
   "outputs": [],
   "source": [
    "shark[\"nuevo_time\"][(shark[\"nuevo_time\"]>0) & (shark[\"nuevo_time\"]<13)]=-1"
   ]
  },
  {
   "cell_type": "code",
   "execution_count": 61,
   "id": "cea6a39a",
   "metadata": {},
   "outputs": [],
   "source": [
    "shark[\"nuevo_time\"][(shark[\"nuevo_time\"]<20) & (shark[\"nuevo_time\"]>=13)]=-2"
   ]
  },
  {
   "cell_type": "code",
   "execution_count": 62,
   "id": "c44660ae",
   "metadata": {},
   "outputs": [],
   "source": [
    "shark[\"nuevo_time\"][shark[\"nuevo_time\"]>20]=-3"
   ]
  },
  {
   "cell_type": "code",
   "execution_count": 63,
   "id": "cdc9c9ac",
   "metadata": {},
   "outputs": [
    {
     "data": {
      "text/plain": [
       "0   -2\n",
       "1   -2\n",
       "2   -1\n",
       "3    0\n",
       "4    0\n",
       "Name: nuevo_time, dtype: int16"
      ]
     },
     "execution_count": 63,
     "metadata": {},
     "output_type": "execute_result"
    }
   ],
   "source": [
    "shark.nuevo_time.head()"
   ]
  },
  {
   "cell_type": "code",
   "execution_count": 64,
   "id": "7cd3eb90",
   "metadata": {},
   "outputs": [],
   "source": [
    "shark[\"nuevo_time\"][shark[\"nuevo_time\"]==-1]=\"Morning\"\n",
    "shark[\"nuevo_time\"][shark[\"nuevo_time\"]==-2]=\"Afternoon\"\n",
    "shark[\"nuevo_time\"][shark[\"nuevo_time\"]==-3]=\"Late Afternoon\""
   ]
  },
  {
   "cell_type": "markdown",
   "id": "e69e1f2c",
   "metadata": {},
   "source": [
    "Vamos a añadir en la columna \"nuevo_time\" donde hay ceros queremos meter los valores de la columna Time correspondientes, de manera que solo tengamos strings"
   ]
  },
  {
   "cell_type": "code",
   "execution_count": 65,
   "id": "4311d0bc",
   "metadata": {},
   "outputs": [],
   "source": [
    "index1=shark[shark[\"nuevo_time\"]==0].index\n"
   ]
  },
  {
   "cell_type": "code",
   "execution_count": 66,
   "id": "e5003670",
   "metadata": {},
   "outputs": [],
   "source": [
    "shark[\"nuevo_time\"][index1]=shark.Time[index1]"
   ]
  },
  {
   "cell_type": "code",
   "execution_count": 98,
   "id": "f4d6ad29",
   "metadata": {},
   "outputs": [
    {
     "data": {
      "text/plain": [
       "['Afternoon', 'Morning', 'Unknown', 'Late afternoon', 'Late Afternoon', ..., 'Late afternon', '\"Early evening\"', '   ', 'Before daybreak', 'dusk']\n",
       "Length: 61\n",
       "Categories (61, object): [20, ' ', '  ', '   ', ..., 'X', 'dusk', 'night', '  ']"
      ]
     },
     "execution_count": 98,
     "metadata": {},
     "output_type": "execute_result"
    }
   ],
   "source": [
    "shark.nuevo_time.unique()"
   ]
  },
  {
   "cell_type": "markdown",
   "id": "be2ba3d8",
   "metadata": {},
   "source": [
    "Queremos reducir estas características a la siguientes: Morning, Afternoon y Late Afternoon"
   ]
  },
  {
   "cell_type": "code",
   "execution_count": 68,
   "id": "d4277332",
   "metadata": {},
   "outputs": [],
   "source": [
    "shark.replace({\"Time\":{\"Midday\":\"Afternoon\",\"9h00\":\"Morning\",\"Early morning\":\"Morning\",\"Just before noon\":\"Morning\",\"Sunset\":\"Late Afternoon\",\"Evening\":\"Afternoon\",\"--\":\"unknown\",\"Early morning\":\"Morning\",\"Morning \":\"Morning\",\"Early Morning\":\"Morning\",\"Mid afternoon\":\"Afternoon\",\"Mid morning\":\"Morning\",\"AM\":\"Morning\",\"Mid-morning\":\"Morning\",\"Daytime\":\"unknown\",\"After lunch\":\"Afternoon\",\"Dawn\":\"Late Afternoon\",\"morning\":\"Morning\",\"Daybreak\":\"unknown\",\"After lunch\":\"Afternoon\",\"night\":\"Late Afternoon\",'\"Early evening\"':\"Afternoon\",\"Before daybreak\":\"Afternoon\",\"Dusk\":\"Afternoon\",\"After Dusk\":\"Late Afternoon\",'\"After lunch\"':\"Afternoon\",\"A.M.\":\"Morning\",\"P.M.\":\"Afternoon\",\"Midday.\":\"Afternoon\",'\"After dark\"':\"Late Afternoon\",\" \":\"unknown\",\"Late afternon\":\"Late Afternoon\",\"dusk\":\"Afternoon\",0:\"unknown\",'\"Evening\"':\"Afternoon\",\"2 hours after Opperman\":\"unknown\"}},inplace=True)"
   ]
  },
  {
   "cell_type": "code",
   "execution_count": 95,
   "id": "15a430c0",
   "metadata": {},
   "outputs": [],
   "source": [
    "lista2=shark.nuevo_time.unique()"
   ]
  },
  {
   "cell_type": "code",
   "execution_count": 96,
   "id": "97c6fb50",
   "metadata": {},
   "outputs": [
    {
     "data": {
      "text/plain": [
       "['Afternoon', 'Morning', 'Unknown', 'Late afternoon', 'Late Afternoon', ..., 'Late afternon', '\"Early evening\"', '   ', 'Before daybreak', 'dusk']\n",
       "Length: 61\n",
       "Categories (61, object): [20, ' ', '  ', '   ', ..., 'X', 'dusk', 'night', '  ']"
      ]
     },
     "execution_count": 96,
     "metadata": {},
     "output_type": "execute_result"
    }
   ],
   "source": [
    "lista2"
   ]
  },
  {
   "cell_type": "code",
   "execution_count": 97,
   "id": "dc9beec5",
   "metadata": {},
   "outputs": [
    {
     "data": {
      "text/plain": [
       "['Afternoon', 'Morning', 'Unknown', 'Late afternoon', 'Late Afternoon', ..., 'Late afternon', '\"Early evening\"', '   ', 'Before daybreak', 'dusk']\n",
       "Length: 61\n",
       "Categories (61, object): [20, ' ', '  ', '   ', ..., 'X', 'dusk', 'night', '  ']"
      ]
     },
     "execution_count": 97,
     "metadata": {},
     "output_type": "execute_result"
    }
   ],
   "source": [
    "shark.nuevo_time.unique()"
   ]
  },
  {
   "cell_type": "code",
   "execution_count": null,
   "id": "209b16a4",
   "metadata": {},
   "outputs": [],
   "source": []
  },
  {
   "cell_type": "markdown",
   "id": "f986009b",
   "metadata": {},
   "source": [
    "#### Luego continuamos quitando categorias"
   ]
  },
  {
   "cell_type": "markdown",
   "id": "60028a27",
   "metadata": {},
   "source": [
    "### Columna \"Fatal (Y/N)\"\n"
   ]
  },
  {
   "cell_type": "code",
   "execution_count": 70,
   "id": "92323a31",
   "metadata": {},
   "outputs": [
    {
     "data": {
      "text/plain": [
       "array(['N', 'Y', 'Unknown', 'M', 'UNKNOWN', '2017', ' N', 'N ', 'y'],\n",
       "      dtype=object)"
      ]
     },
     "execution_count": 70,
     "metadata": {},
     "output_type": "execute_result"
    }
   ],
   "source": [
    "shark[\"Fatal (Y/N)\"].unique()"
   ]
  },
  {
   "cell_type": "markdown",
   "id": "20333fc4",
   "metadata": {},
   "source": [
    "Queremos que solo estén las categorias Y y N"
   ]
  },
  {
   "cell_type": "code",
   "execution_count": 71,
   "id": "d867d35b",
   "metadata": {},
   "outputs": [],
   "source": [
    "shark.replace({\"Fatal (Y/N)\":{\"Afternoon\":\"Unknown\",\"Morning\":\"Unknown\",\"Late Afternoon\":\"Unknown\",\"M\":\"Unknown\",\"UNKNOWN\":\"Unknown\",\"2017\":\"Unknown\",\" N\":\"Unknown\",\"N \":\"Unknown\",\"y\":\"Unknown\",\"unknown\":\"Unknown\"}},inplace=True)"
   ]
  },
  {
   "cell_type": "code",
   "execution_count": 72,
   "id": "58bcb082",
   "metadata": {},
   "outputs": [
    {
     "data": {
      "text/plain": [
       "array(['N', 'Y', 'Unknown'], dtype=object)"
      ]
     },
     "execution_count": 72,
     "metadata": {},
     "output_type": "execute_result"
    }
   ],
   "source": [
    "shark[\"Fatal (Y/N)\"].unique()"
   ]
  },
  {
   "cell_type": "markdown",
   "id": "4149ea5d",
   "metadata": {},
   "source": [
    "# ADAPTAR TIPOS DE COLUMNAS"
   ]
  },
  {
   "cell_type": "code",
   "execution_count": 92,
   "id": "7874d679",
   "metadata": {},
   "outputs": [
    {
     "name": "stdout",
     "output_type": "stream",
     "text": [
      "<class 'pandas.core.frame.DataFrame'>\n",
      "Int64Index: 20578 entries, 0 to 25722\n",
      "Data columns (total 25 columns):\n",
      " #   Column                  Non-Null Count  Dtype         \n",
      "---  ------                  --------------  -----         \n",
      " 0   Case Number             20578 non-null  datetime64[ns]\n",
      " 1   Date                    20578 non-null  datetime64[ns]\n",
      " 2   Year                    20578 non-null  category      \n",
      " 3   Type                    20578 non-null  category      \n",
      " 4   Country                 20578 non-null  category      \n",
      " 5   Area                    20578 non-null  category      \n",
      " 6   Location                20578 non-null  category      \n",
      " 7   Activity                20578 non-null  category      \n",
      " 8   Name                    20578 non-null  category      \n",
      " 9   Sex                     20578 non-null  category      \n",
      " 10  Age                     20578 non-null  float16       \n",
      " 11  Injury                  20578 non-null  category      \n",
      " 12  Fatal (Y/N)             20578 non-null  category      \n",
      " 13  Time                    20578 non-null  category      \n",
      " 14  Species                 20578 non-null  category      \n",
      " 15  Investigator or Source  20578 non-null  category      \n",
      " 16  pdf                     20578 non-null  category      \n",
      " 17  href formula            20578 non-null  category      \n",
      " 18  href                    20578 non-null  category      \n",
      " 19  Case Number.1           20578 non-null  datetime64[ns]\n",
      " 20  Case Number.2           20578 non-null  datetime64[ns]\n",
      " 21  original order          20578 non-null  float16       \n",
      " 22  Unnamed: 22             20578 non-null  int8          \n",
      " 23  Unnamed: 23             20578 non-null  int8          \n",
      " 24  nuevo_time              20578 non-null  category      \n",
      "dtypes: category(17), datetime64[ns](4), float16(2), int8(2)\n",
      "memory usage: 6.8 MB\n"
     ]
    }
   ],
   "source": [
    "shark.info(memory_usage=\"deep\")\n",
    "\n"
   ]
  },
  {
   "cell_type": "code",
   "execution_count": 86,
   "id": "f12b1465",
   "metadata": {},
   "outputs": [],
   "source": [
    "shark[\"Unnamed: 22\"]=shark[\"Unnamed: 22\"].astype(dtype=\"int8\")"
   ]
  },
  {
   "cell_type": "code",
   "execution_count": 87,
   "id": "8ee18098",
   "metadata": {},
   "outputs": [],
   "source": [
    "shark[\"Unnamed: 23\"]=shark[\"Unnamed: 22\"].astype(dtype=\"int8\")"
   ]
  },
  {
   "cell_type": "code",
   "execution_count": 89,
   "id": "5f26652f",
   "metadata": {},
   "outputs": [
    {
     "name": "stdout",
     "output_type": "stream",
     "text": [
      "<class 'pandas.core.frame.DataFrame'>\n",
      "Int64Index: 20578 entries, 0 to 25722\n",
      "Data columns (total 25 columns):\n",
      " #   Column                  Non-Null Count  Dtype         \n",
      "---  ------                  --------------  -----         \n",
      " 0   Case Number             20578 non-null  datetime64[ns]\n",
      " 1   Date                    20578 non-null  datetime64[ns]\n",
      " 2   Year                    20578 non-null  category      \n",
      " 3   Type                    20578 non-null  category      \n",
      " 4   Country                 20578 non-null  category      \n",
      " 5   Area                    20578 non-null  category      \n",
      " 6   Location                20578 non-null  category      \n",
      " 7   Activity                20578 non-null  category      \n",
      " 8   Name                    20578 non-null  category      \n",
      " 9   Sex                     20578 non-null  category      \n",
      " 10  Age                     20578 non-null  float64       \n",
      " 11  Injury                  20578 non-null  category      \n",
      " 12  Fatal (Y/N)             20578 non-null  category      \n",
      " 13  Time                    20578 non-null  category      \n",
      " 14  Species                 20578 non-null  category      \n",
      " 15  Investigator or Source  20578 non-null  category      \n",
      " 16  pdf                     20578 non-null  category      \n",
      " 17  href formula            20578 non-null  category      \n",
      " 18  href                    20578 non-null  category      \n",
      " 19  Case Number.1           20578 non-null  datetime64[ns]\n",
      " 20  Case Number.2           20578 non-null  datetime64[ns]\n",
      " 21  original order          20578 non-null  float64       \n",
      " 22  Unnamed: 22             20578 non-null  int8          \n",
      " 23  Unnamed: 23             20578 non-null  int8          \n",
      " 24  nuevo_time              20578 non-null  category      \n",
      "dtypes: category(17), datetime64[ns](4), float64(2), int8(2)\n",
      "memory usage: 7.1 MB\n"
     ]
    }
   ],
   "source": [
    "for c in shark.select_dtypes('object').columns:\n",
    "    \n",
    "    shark[c]=shark[c].astype('category')    \n",
    "    \n",
    "shark.info(memory_usage='deep')"
   ]
  },
  {
   "cell_type": "code",
   "execution_count": 90,
   "id": "f3240f63",
   "metadata": {},
   "outputs": [],
   "source": [
    "shark.Age=shark.Age.astype(dtype=\"float16\")"
   ]
  },
  {
   "cell_type": "code",
   "execution_count": 91,
   "id": "f8f4e691",
   "metadata": {},
   "outputs": [],
   "source": [
    "shark[\"original order\"]=shark[\"original order\"].astype(dtype=\"float16\")"
   ]
  },
  {
   "cell_type": "code",
   "execution_count": 93,
   "id": "69db1090",
   "metadata": {},
   "outputs": [],
   "source": [
    "shark_final_otro=shark.copy(deep=True)\n"
   ]
  },
  {
   "cell_type": "code",
   "execution_count": 94,
   "id": "50ff005a",
   "metadata": {},
   "outputs": [],
   "source": [
    "shark_final_otro.to_csv('../data/shark_final_otro.csv', index=False)"
   ]
  },
  {
   "cell_type": "markdown",
   "id": "79dbb537",
   "metadata": {},
   "source": [
    "# EMPEZAMOS ANÁLISIS"
   ]
  },
  {
   "cell_type": "markdown",
   "id": "dab96d93",
   "metadata": {},
   "source": [
    "Vamos a ver en que paises es más probable que te ataque un tiburón "
   ]
  },
  {
   "cell_type": "code",
   "execution_count": 105,
   "id": "d8c71938",
   "metadata": {},
   "outputs": [],
   "source": [
    "ages_study=shark.groupby(\"Country\").agg({\"Age\":\"mean\"})\n",
    "\n"
   ]
  },
  {
   "cell_type": "code",
   "execution_count": 107,
   "id": "42cd09b6",
   "metadata": {},
   "outputs": [
    {
     "data": {
      "text/html": [
       "<div>\n",
       "<style scoped>\n",
       "    .dataframe tbody tr th:only-of-type {\n",
       "        vertical-align: middle;\n",
       "    }\n",
       "\n",
       "    .dataframe tbody tr th {\n",
       "        vertical-align: top;\n",
       "    }\n",
       "\n",
       "    .dataframe thead th {\n",
       "        text-align: right;\n",
       "    }\n",
       "</style>\n",
       "<table border=\"1\" class=\"dataframe\">\n",
       "  <thead>\n",
       "    <tr style=\"text-align: right;\">\n",
       "      <th></th>\n",
       "      <th>Age</th>\n",
       "    </tr>\n",
       "    <tr>\n",
       "      <th>Country</th>\n",
       "      <th></th>\n",
       "    </tr>\n",
       "  </thead>\n",
       "  <tbody>\n",
       "    <tr>\n",
       "      <th>ARUBA</th>\n",
       "      <td>58.000000</td>\n",
       "    </tr>\n",
       "    <tr>\n",
       "      <th>GRAND CAYMAN</th>\n",
       "      <td>57.000000</td>\n",
       "    </tr>\n",
       "    <tr>\n",
       "      <th>ST. MAARTIN</th>\n",
       "      <td>55.000000</td>\n",
       "    </tr>\n",
       "    <tr>\n",
       "      <th>BRITISH VIRGIN ISLANDS</th>\n",
       "      <td>53.000000</td>\n",
       "    </tr>\n",
       "    <tr>\n",
       "      <th>UNITED ARAB EMIRATES (UAE)</th>\n",
       "      <td>48.500000</td>\n",
       "    </tr>\n",
       "    <tr>\n",
       "      <th>ST. MARTIN</th>\n",
       "      <td>48.000000</td>\n",
       "    </tr>\n",
       "    <tr>\n",
       "      <th>ST HELENA, British overseas territory</th>\n",
       "      <td>38.500000</td>\n",
       "    </tr>\n",
       "    <tr>\n",
       "      <th>PACIFIC OCEAN</th>\n",
       "      <td>38.500000</td>\n",
       "    </tr>\n",
       "    <tr>\n",
       "      <th>PUERTO RICO</th>\n",
       "      <td>36.000000</td>\n",
       "    </tr>\n",
       "    <tr>\n",
       "      <th>GUAM</th>\n",
       "      <td>35.500000</td>\n",
       "    </tr>\n",
       "    <tr>\n",
       "      <th>CAYMAN ISLANDS</th>\n",
       "      <td>34.750000</td>\n",
       "    </tr>\n",
       "    <tr>\n",
       "      <th>DIEGO GARCIA</th>\n",
       "      <td>33.000000</td>\n",
       "    </tr>\n",
       "    <tr>\n",
       "      <th>ECUADOR</th>\n",
       "      <td>32.625000</td>\n",
       "    </tr>\n",
       "    <tr>\n",
       "      <th>BRITISH ISLES</th>\n",
       "      <td>32.000000</td>\n",
       "    </tr>\n",
       "    <tr>\n",
       "      <th>SOUTH CHINA SEA</th>\n",
       "      <td>32.000000</td>\n",
       "    </tr>\n",
       "    <tr>\n",
       "      <th>MALDIVES</th>\n",
       "      <td>32.000000</td>\n",
       "    </tr>\n",
       "    <tr>\n",
       "      <th>ANDAMAN / NICOBAR ISLANDAS</th>\n",
       "      <td>32.000000</td>\n",
       "    </tr>\n",
       "    <tr>\n",
       "      <th>CAPE VERDE</th>\n",
       "      <td>30.515625</td>\n",
       "    </tr>\n",
       "    <tr>\n",
       "      <th>PALESTINIAN TERRITORIES</th>\n",
       "      <td>30.000000</td>\n",
       "    </tr>\n",
       "    <tr>\n",
       "      <th>OKINAWA</th>\n",
       "      <td>29.921875</td>\n",
       "    </tr>\n",
       "    <tr>\n",
       "      <th>FALKLAND ISLANDS</th>\n",
       "      <td>28.000000</td>\n",
       "    </tr>\n",
       "    <tr>\n",
       "      <th>NORWAY</th>\n",
       "      <td>26.265625</td>\n",
       "    </tr>\n",
       "    <tr>\n",
       "      <th>TRINIDAD &amp; TOBAGO</th>\n",
       "      <td>26.171875</td>\n",
       "    </tr>\n",
       "    <tr>\n",
       "      <th>TONGA</th>\n",
       "      <td>26.015625</td>\n",
       "    </tr>\n",
       "    <tr>\n",
       "      <th>ADMIRALTY ISLANDS</th>\n",
       "      <td>26.000000</td>\n",
       "    </tr>\n",
       "    <tr>\n",
       "      <th>FEDERATED STATES OF MICRONESIA</th>\n",
       "      <td>26.000000</td>\n",
       "    </tr>\n",
       "    <tr>\n",
       "      <th>AMERICAN SAMOA</th>\n",
       "      <td>25.671875</td>\n",
       "    </tr>\n",
       "    <tr>\n",
       "      <th>SOUTH KOREA</th>\n",
       "      <td>25.625000</td>\n",
       "    </tr>\n",
       "    <tr>\n",
       "      <th>THAILAND</th>\n",
       "      <td>25.625000</td>\n",
       "    </tr>\n",
       "    <tr>\n",
       "      <th>WESTERN SAMOA</th>\n",
       "      <td>25.000000</td>\n",
       "    </tr>\n",
       "    <tr>\n",
       "      <th>TAIWAN</th>\n",
       "      <td>25.000000</td>\n",
       "    </tr>\n",
       "    <tr>\n",
       "      <th>BAHAMAS</th>\n",
       "      <td>24.359375</td>\n",
       "    </tr>\n",
       "    <tr>\n",
       "      <th>BRITISH WEST INDIES</th>\n",
       "      <td>24.000000</td>\n",
       "    </tr>\n",
       "    <tr>\n",
       "      <th>Fiji</th>\n",
       "      <td>23.843750</td>\n",
       "    </tr>\n",
       "    <tr>\n",
       "      <th>UNITED KINGDOM</th>\n",
       "      <td>23.609375</td>\n",
       "    </tr>\n",
       "    <tr>\n",
       "      <th>UNITED ARAB EMIRATES</th>\n",
       "      <td>22.765625</td>\n",
       "    </tr>\n",
       "    <tr>\n",
       "      <th>TURKS &amp; CAICOS</th>\n",
       "      <td>22.609375</td>\n",
       "    </tr>\n",
       "    <tr>\n",
       "      <th>HONG KONG</th>\n",
       "      <td>21.843750</td>\n",
       "    </tr>\n",
       "    <tr>\n",
       "      <th>JOHNSTON ISLAND</th>\n",
       "      <td>20.765625</td>\n",
       "    </tr>\n",
       "    <tr>\n",
       "      <th>FRENCH POLYNESIA</th>\n",
       "      <td>20.656250</td>\n",
       "    </tr>\n",
       "    <tr>\n",
       "      <th>VIETNAM</th>\n",
       "      <td>19.578125</td>\n",
       "    </tr>\n",
       "    <tr>\n",
       "      <th>IRAQ</th>\n",
       "      <td>19.421875</td>\n",
       "    </tr>\n",
       "    <tr>\n",
       "      <th>USA</th>\n",
       "      <td>19.265625</td>\n",
       "    </tr>\n",
       "    <tr>\n",
       "      <th>REUNION</th>\n",
       "      <td>18.921875</td>\n",
       "    </tr>\n",
       "    <tr>\n",
       "      <th>BELIZE</th>\n",
       "      <td>18.171875</td>\n",
       "    </tr>\n",
       "    <tr>\n",
       "      <th>ARGENTINA</th>\n",
       "      <td>18.000000</td>\n",
       "    </tr>\n",
       "    <tr>\n",
       "      <th>NORTH SEA</th>\n",
       "      <td>18.000000</td>\n",
       "    </tr>\n",
       "    <tr>\n",
       "      <th>BRITISH NEW GUINEA</th>\n",
       "      <td>18.000000</td>\n",
       "    </tr>\n",
       "    <tr>\n",
       "      <th>SOUTH AFRICA</th>\n",
       "      <td>17.875000</td>\n",
       "    </tr>\n",
       "    <tr>\n",
       "      <th>MAURITIUS</th>\n",
       "      <td>17.812500</td>\n",
       "    </tr>\n",
       "    <tr>\n",
       "      <th>MALTA</th>\n",
       "      <td>17.718750</td>\n",
       "    </tr>\n",
       "    <tr>\n",
       "      <th>DOMINICAN REPUBLIC</th>\n",
       "      <td>17.656250</td>\n",
       "    </tr>\n",
       "    <tr>\n",
       "      <th>MEXICO</th>\n",
       "      <td>17.609375</td>\n",
       "    </tr>\n",
       "    <tr>\n",
       "      <th>JAPAN</th>\n",
       "      <td>17.562500</td>\n",
       "    </tr>\n",
       "    <tr>\n",
       "      <th>MICRONESIA</th>\n",
       "      <td>17.343750</td>\n",
       "    </tr>\n",
       "    <tr>\n",
       "      <th>MOZAMBIQUE</th>\n",
       "      <td>17.203125</td>\n",
       "    </tr>\n",
       "    <tr>\n",
       "      <th>EGYPT</th>\n",
       "      <td>17.109375</td>\n",
       "    </tr>\n",
       "    <tr>\n",
       "      <th>AUSTRALIA</th>\n",
       "      <td>17.078125</td>\n",
       "    </tr>\n",
       "    <tr>\n",
       "      <th>CHINA</th>\n",
       "      <td>16.953125</td>\n",
       "    </tr>\n",
       "    <tr>\n",
       "      <th>SEYCHELLES</th>\n",
       "      <td>16.875000</td>\n",
       "    </tr>\n",
       "    <tr>\n",
       "      <th>COSTA RICA</th>\n",
       "      <td>16.546875</td>\n",
       "    </tr>\n",
       "    <tr>\n",
       "      <th>COLUMBIA</th>\n",
       "      <td>16.453125</td>\n",
       "    </tr>\n",
       "    <tr>\n",
       "      <th>VENEZUELA</th>\n",
       "      <td>16.328125</td>\n",
       "    </tr>\n",
       "    <tr>\n",
       "      <th>FIJI</th>\n",
       "      <td>16.140625</td>\n",
       "    </tr>\n",
       "    <tr>\n",
       "      <th>REUNION ISLAND</th>\n",
       "      <td>16.000000</td>\n",
       "    </tr>\n",
       "    <tr>\n",
       "      <th>EL SALVADOR</th>\n",
       "      <td>15.882812</td>\n",
       "    </tr>\n",
       "    <tr>\n",
       "      <th>MALAYSIA</th>\n",
       "      <td>15.718750</td>\n",
       "    </tr>\n",
       "    <tr>\n",
       "      <th>BRAZIL</th>\n",
       "      <td>15.640625</td>\n",
       "    </tr>\n",
       "    <tr>\n",
       "      <th>SCOTLAND</th>\n",
       "      <td>15.578125</td>\n",
       "    </tr>\n",
       "    <tr>\n",
       "      <th>PORTUGAL</th>\n",
       "      <td>15.507812</td>\n",
       "    </tr>\n",
       "    <tr>\n",
       "      <th>NEW CALEDONIA</th>\n",
       "      <td>15.343750</td>\n",
       "    </tr>\n",
       "    <tr>\n",
       "      <th>CENTRAL PACIFIC</th>\n",
       "      <td>15.265625</td>\n",
       "    </tr>\n",
       "    <tr>\n",
       "      <th>NORTH ATLANTIC OCEAN</th>\n",
       "      <td>15.000000</td>\n",
       "    </tr>\n",
       "    <tr>\n",
       "      <th>CEYLON (SRI LANKA)</th>\n",
       "      <td>15.000000</td>\n",
       "    </tr>\n",
       "    <tr>\n",
       "      <th>MADAGASCAR</th>\n",
       "      <td>14.703125</td>\n",
       "    </tr>\n",
       "    <tr>\n",
       "      <th>BERMUDA</th>\n",
       "      <td>14.640625</td>\n",
       "    </tr>\n",
       "    <tr>\n",
       "      <th>SINGAPORE</th>\n",
       "      <td>14.187500</td>\n",
       "    </tr>\n",
       "    <tr>\n",
       "      <th>MARSHALL ISLANDS</th>\n",
       "      <td>14.132812</td>\n",
       "    </tr>\n",
       "    <tr>\n",
       "      <th>INDIA</th>\n",
       "      <td>14.031250</td>\n",
       "    </tr>\n",
       "    <tr>\n",
       "      <th>PALAU</th>\n",
       "      <td>13.718750</td>\n",
       "    </tr>\n",
       "    <tr>\n",
       "      <th>AZORES</th>\n",
       "      <td>13.421875</td>\n",
       "    </tr>\n",
       "    <tr>\n",
       "      <th>NEW ZEALAND</th>\n",
       "      <td>13.312500</td>\n",
       "    </tr>\n",
       "    <tr>\n",
       "      <th>SPAIN</th>\n",
       "      <td>13.257812</td>\n",
       "    </tr>\n",
       "    <tr>\n",
       "      <th>TONGA</th>\n",
       "      <td>13.210938</td>\n",
       "    </tr>\n",
       "    <tr>\n",
       "      <th>GRENADA</th>\n",
       "      <td>13.132812</td>\n",
       "    </tr>\n",
       "    <tr>\n",
       "      <th>NIGERIA</th>\n",
       "      <td>12.898438</td>\n",
       "    </tr>\n",
       "    <tr>\n",
       "      <th>RUSSIA</th>\n",
       "      <td>12.515625</td>\n",
       "    </tr>\n",
       "    <tr>\n",
       "      <th>JAMAICA</th>\n",
       "      <td>12.500000</td>\n",
       "    </tr>\n",
       "    <tr>\n",
       "      <th>ITALY</th>\n",
       "      <td>12.390625</td>\n",
       "    </tr>\n",
       "    <tr>\n",
       "      <th>PANAMA</th>\n",
       "      <td>12.359375</td>\n",
       "    </tr>\n",
       "    <tr>\n",
       "      <th>TANZANIA</th>\n",
       "      <td>12.148438</td>\n",
       "    </tr>\n",
       "    <tr>\n",
       "      <th>SAUDI ARABIA</th>\n",
       "      <td>12.023438</td>\n",
       "    </tr>\n",
       "    <tr>\n",
       "      <th>NORTH ATLANTIC OCEAN</th>\n",
       "      <td>11.898438</td>\n",
       "    </tr>\n",
       "    <tr>\n",
       "      <th>CUBA</th>\n",
       "      <td>11.835938</td>\n",
       "    </tr>\n",
       "    <tr>\n",
       "      <th>EGYPT</th>\n",
       "      <td>11.765625</td>\n",
       "    </tr>\n",
       "    <tr>\n",
       "      <th>HONDURAS</th>\n",
       "      <td>11.648438</td>\n",
       "    </tr>\n",
       "    <tr>\n",
       "      <th>CROATIA</th>\n",
       "      <td>11.625000</td>\n",
       "    </tr>\n",
       "    <tr>\n",
       "      <th>KENYA</th>\n",
       "      <td>11.562500</td>\n",
       "    </tr>\n",
       "    <tr>\n",
       "      <th>ISRAEL</th>\n",
       "      <td>11.445312</td>\n",
       "    </tr>\n",
       "    <tr>\n",
       "      <th>SOUTH ATLANTIC OCEAN</th>\n",
       "      <td>11.101562</td>\n",
       "    </tr>\n",
       "    <tr>\n",
       "      <th>NORTH PACIFIC OCEAN</th>\n",
       "      <td>10.804688</td>\n",
       "    </tr>\n",
       "    <tr>\n",
       "      <th>SENEGAL</th>\n",
       "      <td>10.789062</td>\n",
       "    </tr>\n",
       "    <tr>\n",
       "      <th>CARIBBEAN SEA</th>\n",
       "      <td>10.773438</td>\n",
       "    </tr>\n",
       "    <tr>\n",
       "      <th>NEW BRITAIN</th>\n",
       "      <td>10.593750</td>\n",
       "    </tr>\n",
       "    <tr>\n",
       "      <th>ATLANTIC OCEAN</th>\n",
       "      <td>10.578125</td>\n",
       "    </tr>\n",
       "    <tr>\n",
       "      <th>IRAN</th>\n",
       "      <td>10.484375</td>\n",
       "    </tr>\n",
       "    <tr>\n",
       "      <th>PHILIPPINES</th>\n",
       "      <td>10.226562</td>\n",
       "    </tr>\n",
       "    <tr>\n",
       "      <th>SAMOA</th>\n",
       "      <td>9.835938</td>\n",
       "    </tr>\n",
       "    <tr>\n",
       "      <th>YEMEN</th>\n",
       "      <td>9.804688</td>\n",
       "    </tr>\n",
       "    <tr>\n",
       "      <th>GREECE</th>\n",
       "      <td>9.781250</td>\n",
       "    </tr>\n",
       "    <tr>\n",
       "      <th>PAPUA NEW GUINEA</th>\n",
       "      <td>9.710938</td>\n",
       "    </tr>\n",
       "    <tr>\n",
       "      <th>ENGLAND</th>\n",
       "      <td>9.656250</td>\n",
       "    </tr>\n",
       "    <tr>\n",
       "      <th>KIRIBATI</th>\n",
       "      <td>9.609375</td>\n",
       "    </tr>\n",
       "    <tr>\n",
       "      <th>PACIFIC OCEAN</th>\n",
       "      <td>9.609375</td>\n",
       "    </tr>\n",
       "    <tr>\n",
       "      <th>SOLOMON ISLANDS</th>\n",
       "      <td>9.585938</td>\n",
       "    </tr>\n",
       "    <tr>\n",
       "      <th>GUINEA</th>\n",
       "      <td>9.015625</td>\n",
       "    </tr>\n",
       "    <tr>\n",
       "      <th>BARBADOS</th>\n",
       "      <td>8.851562</td>\n",
       "    </tr>\n",
       "    <tr>\n",
       "      <th>NICARAGUA</th>\n",
       "      <td>8.773438</td>\n",
       "    </tr>\n",
       "    <tr>\n",
       "      <th>URUGUAY</th>\n",
       "      <td>8.648438</td>\n",
       "    </tr>\n",
       "    <tr>\n",
       "      <th>VANUATU</th>\n",
       "      <td>8.625000</td>\n",
       "    </tr>\n",
       "    <tr>\n",
       "      <th>INDONESIA</th>\n",
       "      <td>8.609375</td>\n",
       "    </tr>\n",
       "    <tr>\n",
       "      <th>CANADA</th>\n",
       "      <td>8.187500</td>\n",
       "    </tr>\n",
       "    <tr>\n",
       "      <th>TURKEY</th>\n",
       "      <td>8.109375</td>\n",
       "    </tr>\n",
       "    <tr>\n",
       "      <th>FRANCE</th>\n",
       "      <td>8.023438</td>\n",
       "    </tr>\n",
       "    <tr>\n",
       "      <th>MID ATLANTIC OCEAN</th>\n",
       "      <td>8.023438</td>\n",
       "    </tr>\n",
       "    <tr>\n",
       "      <th>HAITI</th>\n",
       "      <td>8.015625</td>\n",
       "    </tr>\n",
       "    <tr>\n",
       "      <th>SIERRA LEONE</th>\n",
       "      <td>7.769531</td>\n",
       "    </tr>\n",
       "    <tr>\n",
       "      <th>SOMALIA</th>\n",
       "      <td>7.273438</td>\n",
       "    </tr>\n",
       "    <tr>\n",
       "      <th>NEW GUINEA</th>\n",
       "      <td>7.074219</td>\n",
       "    </tr>\n",
       "    <tr>\n",
       "      <th>CHILE</th>\n",
       "      <td>6.335938</td>\n",
       "    </tr>\n",
       "    <tr>\n",
       "      <th>SRI LANKA</th>\n",
       "      <td>6.238281</td>\n",
       "    </tr>\n",
       "    <tr>\n",
       "      <th>Unknown</th>\n",
       "      <td>4.539062</td>\n",
       "    </tr>\n",
       "    <tr>\n",
       "      <th>TUVALU</th>\n",
       "      <td>4.527344</td>\n",
       "    </tr>\n",
       "    <tr>\n",
       "      <th>AFRICA</th>\n",
       "      <td>4.527344</td>\n",
       "    </tr>\n",
       "    <tr>\n",
       "      <th>CEYLON</th>\n",
       "      <td>4.527344</td>\n",
       "    </tr>\n",
       "    <tr>\n",
       "      <th>COMOROS</th>\n",
       "      <td>4.527344</td>\n",
       "    </tr>\n",
       "    <tr>\n",
       "      <th>COOK ISLANDS</th>\n",
       "      <td>4.527344</td>\n",
       "    </tr>\n",
       "    <tr>\n",
       "      <th>CRETE</th>\n",
       "      <td>4.527344</td>\n",
       "    </tr>\n",
       "    <tr>\n",
       "      <th>SOUTHWEST PACIFIC OCEAN</th>\n",
       "      <td>4.527344</td>\n",
       "    </tr>\n",
       "    <tr>\n",
       "      <th>SOUTH PACIFIC OCEAN</th>\n",
       "      <td>4.527344</td>\n",
       "    </tr>\n",
       "    <tr>\n",
       "      <th>SUDAN</th>\n",
       "      <td>4.527344</td>\n",
       "    </tr>\n",
       "    <tr>\n",
       "      <th>CURACAO</th>\n",
       "      <td>4.527344</td>\n",
       "    </tr>\n",
       "    <tr>\n",
       "      <th>CYPRUS</th>\n",
       "      <td>4.527344</td>\n",
       "    </tr>\n",
       "    <tr>\n",
       "      <th>Coast of AFRICA</th>\n",
       "      <td>4.527344</td>\n",
       "    </tr>\n",
       "    <tr>\n",
       "      <th>YEMEN</th>\n",
       "      <td>4.527344</td>\n",
       "    </tr>\n",
       "    <tr>\n",
       "      <th>SOLOMON ISLANDS / VANUATU</th>\n",
       "      <td>4.527344</td>\n",
       "    </tr>\n",
       "    <tr>\n",
       "      <th>WEST INDIES</th>\n",
       "      <td>4.527344</td>\n",
       "    </tr>\n",
       "    <tr>\n",
       "      <th>ALGERIA</th>\n",
       "      <td>4.527344</td>\n",
       "    </tr>\n",
       "    <tr>\n",
       "      <th>SUDAN?</th>\n",
       "      <td>4.527344</td>\n",
       "    </tr>\n",
       "    <tr>\n",
       "      <th>THE BALKANS</th>\n",
       "      <td>4.527344</td>\n",
       "    </tr>\n",
       "    <tr>\n",
       "      <th>BAHREIN</th>\n",
       "      <td>4.527344</td>\n",
       "    </tr>\n",
       "    <tr>\n",
       "      <th>ASIA?</th>\n",
       "      <td>4.527344</td>\n",
       "    </tr>\n",
       "    <tr>\n",
       "      <th>ANTIGUA</th>\n",
       "      <td>4.527344</td>\n",
       "    </tr>\n",
       "    <tr>\n",
       "      <th>TUNISIA</th>\n",
       "      <td>4.527344</td>\n",
       "    </tr>\n",
       "    <tr>\n",
       "      <th>ANGOLA</th>\n",
       "      <td>4.527344</td>\n",
       "    </tr>\n",
       "    <tr>\n",
       "      <th>BAY OF BENGAL</th>\n",
       "      <td>4.527344</td>\n",
       "    </tr>\n",
       "    <tr>\n",
       "      <th>TOBAGO</th>\n",
       "      <td>4.527344</td>\n",
       "    </tr>\n",
       "    <tr>\n",
       "      <th>BURMA</th>\n",
       "      <td>4.527344</td>\n",
       "    </tr>\n",
       "    <tr>\n",
       "      <th>SWEDEN</th>\n",
       "      <td>4.527344</td>\n",
       "    </tr>\n",
       "    <tr>\n",
       "      <th>TASMAN SEA</th>\n",
       "      <td>4.527344</td>\n",
       "    </tr>\n",
       "    <tr>\n",
       "      <th>SLOVENIA</th>\n",
       "      <td>4.527344</td>\n",
       "    </tr>\n",
       "    <tr>\n",
       "      <th>ANDAMAN ISLANDS</th>\n",
       "      <td>4.527344</td>\n",
       "    </tr>\n",
       "    <tr>\n",
       "      <th>Sierra Leone</th>\n",
       "      <td>4.527344</td>\n",
       "    </tr>\n",
       "    <tr>\n",
       "      <th>Seychelles</th>\n",
       "      <td>4.527344</td>\n",
       "    </tr>\n",
       "    <tr>\n",
       "      <th>SYRIA</th>\n",
       "      <td>4.527344</td>\n",
       "    </tr>\n",
       "    <tr>\n",
       "      <th>BANGLADESH</th>\n",
       "      <td>4.527344</td>\n",
       "    </tr>\n",
       "    <tr>\n",
       "      <th>Between PORTUGAL &amp; INDIA</th>\n",
       "      <td>4.527344</td>\n",
       "    </tr>\n",
       "    <tr>\n",
       "      <th>MARTINIQUE</th>\n",
       "      <td>4.527344</td>\n",
       "    </tr>\n",
       "    <tr>\n",
       "      <th>DJIBOUTI</th>\n",
       "      <td>4.527344</td>\n",
       "    </tr>\n",
       "    <tr>\n",
       "      <th>NORTHERN MARIANA ISLANDS</th>\n",
       "      <td>4.527344</td>\n",
       "    </tr>\n",
       "    <tr>\n",
       "      <th>IRAN / IRAQ</th>\n",
       "      <td>4.527344</td>\n",
       "    </tr>\n",
       "    <tr>\n",
       "      <th>IRELAND</th>\n",
       "      <td>4.527344</td>\n",
       "    </tr>\n",
       "    <tr>\n",
       "      <th>ITALY / CROATIA</th>\n",
       "      <td>4.527344</td>\n",
       "    </tr>\n",
       "    <tr>\n",
       "      <th>JAVA</th>\n",
       "      <td>4.527344</td>\n",
       "    </tr>\n",
       "    <tr>\n",
       "      <th>NICARAGUA</th>\n",
       "      <td>4.527344</td>\n",
       "    </tr>\n",
       "    <tr>\n",
       "      <th>KOREA</th>\n",
       "      <td>4.527344</td>\n",
       "    </tr>\n",
       "    <tr>\n",
       "      <th>KUWAIT</th>\n",
       "      <td>4.527344</td>\n",
       "    </tr>\n",
       "    <tr>\n",
       "      <th>NEVIS</th>\n",
       "      <td>4.527344</td>\n",
       "    </tr>\n",
       "    <tr>\n",
       "      <th>NETHERLANDS ANTILLES</th>\n",
       "      <td>4.527344</td>\n",
       "    </tr>\n",
       "    <tr>\n",
       "      <th>NAMIBIA</th>\n",
       "      <td>4.527344</td>\n",
       "    </tr>\n",
       "    <tr>\n",
       "      <th>LEBANON</th>\n",
       "      <td>4.527344</td>\n",
       "    </tr>\n",
       "    <tr>\n",
       "      <th>MONTENEGRO</th>\n",
       "      <td>4.527344</td>\n",
       "    </tr>\n",
       "    <tr>\n",
       "      <th>MONACO</th>\n",
       "      <td>4.527344</td>\n",
       "    </tr>\n",
       "    <tr>\n",
       "      <th>MID-PACIFC OCEAN</th>\n",
       "      <td>4.527344</td>\n",
       "    </tr>\n",
       "    <tr>\n",
       "      <th>LIBERIA</th>\n",
       "      <td>4.527344</td>\n",
       "    </tr>\n",
       "    <tr>\n",
       "      <th>MEXICO</th>\n",
       "      <td>4.527344</td>\n",
       "    </tr>\n",
       "    <tr>\n",
       "      <th>LIBYA</th>\n",
       "      <td>4.527344</td>\n",
       "    </tr>\n",
       "    <tr>\n",
       "      <th>MEDITERRANEAN SEA</th>\n",
       "      <td>4.527344</td>\n",
       "    </tr>\n",
       "    <tr>\n",
       "      <th>MAYOTTE</th>\n",
       "      <td>4.527344</td>\n",
       "    </tr>\n",
       "    <tr>\n",
       "      <th>NORTHERN ARABIAN SEA</th>\n",
       "      <td>4.527344</td>\n",
       "    </tr>\n",
       "    <tr>\n",
       "      <th>INDIAN OCEAN?</th>\n",
       "      <td>4.527344</td>\n",
       "    </tr>\n",
       "    <tr>\n",
       "      <th>EGYPT / ISRAEL</th>\n",
       "      <td>4.527344</td>\n",
       "    </tr>\n",
       "    <tr>\n",
       "      <th>OCEAN</th>\n",
       "      <td>4.527344</td>\n",
       "    </tr>\n",
       "    <tr>\n",
       "      <th>EQUATORIAL GUINEA / CAMEROON</th>\n",
       "      <td>4.527344</td>\n",
       "    </tr>\n",
       "    <tr>\n",
       "      <th>MALDIVE ISLANDS</th>\n",
       "      <td>4.527344</td>\n",
       "    </tr>\n",
       "    <tr>\n",
       "      <th>SAN DOMINGO</th>\n",
       "      <td>4.527344</td>\n",
       "    </tr>\n",
       "    <tr>\n",
       "      <th>GABON</th>\n",
       "      <td>4.527344</td>\n",
       "    </tr>\n",
       "    <tr>\n",
       "      <th>GEORGIA</th>\n",
       "      <td>4.527344</td>\n",
       "    </tr>\n",
       "    <tr>\n",
       "      <th>ROATAN</th>\n",
       "      <td>4.527344</td>\n",
       "    </tr>\n",
       "    <tr>\n",
       "      <th>GHANA</th>\n",
       "      <td>4.527344</td>\n",
       "    </tr>\n",
       "    <tr>\n",
       "      <th>RED SEA?</th>\n",
       "      <td>4.527344</td>\n",
       "    </tr>\n",
       "    <tr>\n",
       "      <th>RED SEA / INDIAN OCEAN</th>\n",
       "      <td>4.527344</td>\n",
       "    </tr>\n",
       "    <tr>\n",
       "      <th>RED SEA</th>\n",
       "      <td>4.527344</td>\n",
       "    </tr>\n",
       "    <tr>\n",
       "      <th>GREENLAND</th>\n",
       "      <td>4.527344</td>\n",
       "    </tr>\n",
       "    <tr>\n",
       "      <th>GUATEMALA</th>\n",
       "      <td>4.527344</td>\n",
       "    </tr>\n",
       "    <tr>\n",
       "      <th>PERU</th>\n",
       "      <td>4.527344</td>\n",
       "    </tr>\n",
       "    <tr>\n",
       "      <th>PERSIAN GULF</th>\n",
       "      <td>4.527344</td>\n",
       "    </tr>\n",
       "    <tr>\n",
       "      <th>PARAGUAY</th>\n",
       "      <td>4.527344</td>\n",
       "    </tr>\n",
       "    <tr>\n",
       "      <th>GULF OF ADEN</th>\n",
       "      <td>4.527344</td>\n",
       "    </tr>\n",
       "    <tr>\n",
       "      <th>GUYANA</th>\n",
       "      <td>4.527344</td>\n",
       "    </tr>\n",
       "    <tr>\n",
       "      <th>ICELAND</th>\n",
       "      <td>4.527344</td>\n",
       "    </tr>\n",
       "    <tr>\n",
       "      <th>INDIAN OCEAN</th>\n",
       "      <td>4.527344</td>\n",
       "    </tr>\n",
       "    <tr>\n",
       "      <th>PHILIPPINES</th>\n",
       "      <td>4.527344</td>\n",
       "    </tr>\n",
       "  </tbody>\n",
       "</table>\n",
       "</div>"
      ],
      "text/plain": [
       "                                             Age\n",
       "Country                                         \n",
       "ARUBA                                  58.000000\n",
       "GRAND CAYMAN                           57.000000\n",
       "ST. MAARTIN                            55.000000\n",
       "BRITISH VIRGIN ISLANDS                 53.000000\n",
       "UNITED ARAB EMIRATES (UAE)             48.500000\n",
       "ST. MARTIN                             48.000000\n",
       "ST HELENA, British overseas territory  38.500000\n",
       "PACIFIC OCEAN                          38.500000\n",
       "PUERTO RICO                            36.000000\n",
       "GUAM                                   35.500000\n",
       "CAYMAN ISLANDS                         34.750000\n",
       "DIEGO GARCIA                           33.000000\n",
       "ECUADOR                                32.625000\n",
       "BRITISH ISLES                          32.000000\n",
       "SOUTH CHINA SEA                        32.000000\n",
       "MALDIVES                               32.000000\n",
       "ANDAMAN / NICOBAR ISLANDAS             32.000000\n",
       "CAPE VERDE                             30.515625\n",
       "PALESTINIAN TERRITORIES                30.000000\n",
       "OKINAWA                                29.921875\n",
       "FALKLAND ISLANDS                       28.000000\n",
       "NORWAY                                 26.265625\n",
       "TRINIDAD & TOBAGO                      26.171875\n",
       " TONGA                                 26.015625\n",
       "ADMIRALTY ISLANDS                      26.000000\n",
       "FEDERATED STATES OF MICRONESIA         26.000000\n",
       "AMERICAN SAMOA                         25.671875\n",
       "SOUTH KOREA                            25.625000\n",
       "THAILAND                               25.625000\n",
       "WESTERN SAMOA                          25.000000\n",
       "TAIWAN                                 25.000000\n",
       "BAHAMAS                                24.359375\n",
       "BRITISH WEST INDIES                    24.000000\n",
       "Fiji                                   23.843750\n",
       "UNITED KINGDOM                         23.609375\n",
       "UNITED ARAB EMIRATES                   22.765625\n",
       "TURKS & CAICOS                         22.609375\n",
       "HONG KONG                              21.843750\n",
       "JOHNSTON ISLAND                        20.765625\n",
       "FRENCH POLYNESIA                       20.656250\n",
       "VIETNAM                                19.578125\n",
       "IRAQ                                   19.421875\n",
       "USA                                    19.265625\n",
       "REUNION                                18.921875\n",
       "BELIZE                                 18.171875\n",
       "ARGENTINA                              18.000000\n",
       "NORTH SEA                              18.000000\n",
       "BRITISH NEW GUINEA                     18.000000\n",
       "SOUTH AFRICA                           17.875000\n",
       "MAURITIUS                              17.812500\n",
       "MALTA                                  17.718750\n",
       "DOMINICAN REPUBLIC                     17.656250\n",
       "MEXICO                                 17.609375\n",
       "JAPAN                                  17.562500\n",
       "MICRONESIA                             17.343750\n",
       "MOZAMBIQUE                             17.203125\n",
       "EGYPT                                  17.109375\n",
       "AUSTRALIA                              17.078125\n",
       "CHINA                                  16.953125\n",
       "SEYCHELLES                             16.875000\n",
       "COSTA RICA                             16.546875\n",
       "COLUMBIA                               16.453125\n",
       "VENEZUELA                              16.328125\n",
       "FIJI                                   16.140625\n",
       "REUNION ISLAND                         16.000000\n",
       "EL SALVADOR                            15.882812\n",
       "MALAYSIA                               15.718750\n",
       "BRAZIL                                 15.640625\n",
       "SCOTLAND                               15.578125\n",
       "PORTUGAL                               15.507812\n",
       "NEW CALEDONIA                          15.343750\n",
       "CENTRAL PACIFIC                        15.265625\n",
       "NORTH ATLANTIC OCEAN                   15.000000\n",
       "CEYLON (SRI LANKA)                     15.000000\n",
       "MADAGASCAR                             14.703125\n",
       "BERMUDA                                14.640625\n",
       "SINGAPORE                              14.187500\n",
       "MARSHALL ISLANDS                       14.132812\n",
       "INDIA                                  14.031250\n",
       "PALAU                                  13.718750\n",
       "AZORES                                 13.421875\n",
       "NEW ZEALAND                            13.312500\n",
       "SPAIN                                  13.257812\n",
       "TONGA                                  13.210938\n",
       "GRENADA                                13.132812\n",
       "NIGERIA                                12.898438\n",
       "RUSSIA                                 12.515625\n",
       "JAMAICA                                12.500000\n",
       "ITALY                                  12.390625\n",
       "PANAMA                                 12.359375\n",
       "TANZANIA                               12.148438\n",
       "SAUDI ARABIA                           12.023438\n",
       "NORTH ATLANTIC OCEAN                   11.898438\n",
       "CUBA                                   11.835938\n",
       "EGYPT                                  11.765625\n",
       "HONDURAS                               11.648438\n",
       "CROATIA                                11.625000\n",
       "KENYA                                  11.562500\n",
       "ISRAEL                                 11.445312\n",
       "SOUTH ATLANTIC OCEAN                   11.101562\n",
       "NORTH PACIFIC OCEAN                    10.804688\n",
       "SENEGAL                                10.789062\n",
       "CARIBBEAN SEA                          10.773438\n",
       "NEW BRITAIN                            10.593750\n",
       "ATLANTIC OCEAN                         10.578125\n",
       "IRAN                                   10.484375\n",
       "PHILIPPINES                            10.226562\n",
       "SAMOA                                   9.835938\n",
       "YEMEN                                   9.804688\n",
       "GREECE                                  9.781250\n",
       "PAPUA NEW GUINEA                        9.710938\n",
       "ENGLAND                                 9.656250\n",
       "KIRIBATI                                9.609375\n",
       "PACIFIC OCEAN                           9.609375\n",
       "SOLOMON ISLANDS                         9.585938\n",
       "GUINEA                                  9.015625\n",
       "BARBADOS                                8.851562\n",
       "NICARAGUA                               8.773438\n",
       "URUGUAY                                 8.648438\n",
       "VANUATU                                 8.625000\n",
       "INDONESIA                               8.609375\n",
       "CANADA                                  8.187500\n",
       "TURKEY                                  8.109375\n",
       "FRANCE                                  8.023438\n",
       "MID ATLANTIC OCEAN                      8.023438\n",
       "HAITI                                   8.015625\n",
       "SIERRA LEONE                            7.769531\n",
       "SOMALIA                                 7.273438\n",
       "NEW GUINEA                              7.074219\n",
       "CHILE                                   6.335938\n",
       "SRI LANKA                               6.238281\n",
       "Unknown                                 4.539062\n",
       "TUVALU                                  4.527344\n",
       "AFRICA                                  4.527344\n",
       "CEYLON                                  4.527344\n",
       "COMOROS                                 4.527344\n",
       "COOK ISLANDS                            4.527344\n",
       "CRETE                                   4.527344\n",
       "SOUTHWEST PACIFIC OCEAN                 4.527344\n",
       "SOUTH PACIFIC OCEAN                     4.527344\n",
       "SUDAN                                   4.527344\n",
       "CURACAO                                 4.527344\n",
       "CYPRUS                                  4.527344\n",
       "Coast of AFRICA                         4.527344\n",
       "YEMEN                                   4.527344\n",
       "SOLOMON ISLANDS / VANUATU               4.527344\n",
       "WEST INDIES                             4.527344\n",
       "ALGERIA                                 4.527344\n",
       "SUDAN?                                  4.527344\n",
       "THE BALKANS                             4.527344\n",
       "BAHREIN                                 4.527344\n",
       "ASIA?                                   4.527344\n",
       "ANTIGUA                                 4.527344\n",
       "TUNISIA                                 4.527344\n",
       "ANGOLA                                  4.527344\n",
       "BAY OF BENGAL                           4.527344\n",
       "TOBAGO                                  4.527344\n",
       "BURMA                                   4.527344\n",
       "SWEDEN                                  4.527344\n",
       "TASMAN SEA                              4.527344\n",
       "SLOVENIA                                4.527344\n",
       "ANDAMAN ISLANDS                         4.527344\n",
       "Sierra Leone                            4.527344\n",
       "Seychelles                              4.527344\n",
       "SYRIA                                   4.527344\n",
       "BANGLADESH                              4.527344\n",
       "Between PORTUGAL & INDIA                4.527344\n",
       "MARTINIQUE                              4.527344\n",
       "DJIBOUTI                                4.527344\n",
       "NORTHERN MARIANA ISLANDS                4.527344\n",
       "IRAN / IRAQ                             4.527344\n",
       "IRELAND                                 4.527344\n",
       "ITALY / CROATIA                         4.527344\n",
       "JAVA                                    4.527344\n",
       "NICARAGUA                               4.527344\n",
       "KOREA                                   4.527344\n",
       "KUWAIT                                  4.527344\n",
       "NEVIS                                   4.527344\n",
       "NETHERLANDS ANTILLES                    4.527344\n",
       "NAMIBIA                                 4.527344\n",
       "LEBANON                                 4.527344\n",
       "MONTENEGRO                              4.527344\n",
       "MONACO                                  4.527344\n",
       "MID-PACIFC OCEAN                        4.527344\n",
       "LIBERIA                                 4.527344\n",
       "MEXICO                                  4.527344\n",
       "LIBYA                                   4.527344\n",
       "MEDITERRANEAN SEA                       4.527344\n",
       "MAYOTTE                                 4.527344\n",
       "NORTHERN ARABIAN SEA                    4.527344\n",
       "INDIAN OCEAN?                           4.527344\n",
       "EGYPT / ISRAEL                          4.527344\n",
       "OCEAN                                   4.527344\n",
       "EQUATORIAL GUINEA / CAMEROON            4.527344\n",
       "MALDIVE ISLANDS                         4.527344\n",
       "SAN DOMINGO                             4.527344\n",
       "GABON                                   4.527344\n",
       "GEORGIA                                 4.527344\n",
       "ROATAN                                  4.527344\n",
       "GHANA                                   4.527344\n",
       "RED SEA?                                4.527344\n",
       "RED SEA / INDIAN OCEAN                  4.527344\n",
       "RED SEA                                 4.527344\n",
       "GREENLAND                               4.527344\n",
       "GUATEMALA                               4.527344\n",
       "PERU                                    4.527344\n",
       "PERSIAN GULF                            4.527344\n",
       "PARAGUAY                                4.527344\n",
       "GULF OF ADEN                            4.527344\n",
       "GUYANA                                  4.527344\n",
       "ICELAND                                 4.527344\n",
       "INDIAN OCEAN                            4.527344\n",
       " PHILIPPINES                            4.527344"
      ]
     },
     "execution_count": 107,
     "metadata": {},
     "output_type": "execute_result"
    }
   ],
   "source": [
    "ages_study.sort_values(by=['Age'],ascending=False)"
   ]
  },
  {
   "cell_type": "code",
   "execution_count": null,
   "id": "28b725b8",
   "metadata": {},
   "outputs": [],
   "source": []
  }
 ],
 "metadata": {
  "kernelspec": {
   "display_name": "Ironhack",
   "language": "python",
   "name": "ironhack"
  },
  "language_info": {
   "codemirror_mode": {
    "name": "ipython",
    "version": 3
   },
   "file_extension": ".py",
   "mimetype": "text/x-python",
   "name": "python",
   "nbconvert_exporter": "python",
   "pygments_lexer": "ipython3",
   "version": "3.9.7"
  }
 },
 "nbformat": 4,
 "nbformat_minor": 5
}
