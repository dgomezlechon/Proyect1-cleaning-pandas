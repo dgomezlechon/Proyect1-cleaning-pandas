{
 "cells": [
  {
   "cell_type": "code",
   "execution_count": 92,
   "id": "1077dcee",
   "metadata": {},
   "outputs": [],
   "source": [
    "import pandas as pd\n",
    "\n",
    "import numpy as np\n",
    "\n",
    "import pylab as plt\n",
    "import seaborn as sns\n",
    "%matplotlib inline  \n",
    "\n",
    "import statistics"
   ]
  },
  {
   "cell_type": "code",
   "execution_count": 2,
   "id": "b5c9a2e4",
   "metadata": {},
   "outputs": [],
   "source": [
    "pd.set_option('display.max_columns', None)  # es para enseñar todas las columnas del df\n",
    "\n",
    "import warnings\n",
    "warnings.simplefilter('ignore')"
   ]
  },
  {
   "cell_type": "code",
   "execution_count": 61,
   "id": "a387f0da",
   "metadata": {},
   "outputs": [],
   "source": [
    "shark=pd.read_csv('../data/attacks.csv',encoding=\"latin1\")"
   ]
  },
  {
   "cell_type": "code",
   "execution_count": 62,
   "id": "dd07426d",
   "metadata": {},
   "outputs": [
    {
     "data": {
      "text/html": [
       "<div>\n",
       "<style scoped>\n",
       "    .dataframe tbody tr th:only-of-type {\n",
       "        vertical-align: middle;\n",
       "    }\n",
       "\n",
       "    .dataframe tbody tr th {\n",
       "        vertical-align: top;\n",
       "    }\n",
       "\n",
       "    .dataframe thead th {\n",
       "        text-align: right;\n",
       "    }\n",
       "</style>\n",
       "<table border=\"1\" class=\"dataframe\">\n",
       "  <thead>\n",
       "    <tr style=\"text-align: right;\">\n",
       "      <th></th>\n",
       "      <th>Case Number</th>\n",
       "      <th>Date</th>\n",
       "      <th>Year</th>\n",
       "      <th>Type</th>\n",
       "      <th>Country</th>\n",
       "      <th>Area</th>\n",
       "      <th>Location</th>\n",
       "      <th>Activity</th>\n",
       "      <th>Name</th>\n",
       "      <th>Sex</th>\n",
       "      <th>Age</th>\n",
       "      <th>Injury</th>\n",
       "      <th>Fatal (Y/N)</th>\n",
       "      <th>Time</th>\n",
       "      <th>Species</th>\n",
       "      <th>Investigator or Source</th>\n",
       "      <th>pdf</th>\n",
       "      <th>href formula</th>\n",
       "      <th>href</th>\n",
       "      <th>Case Number.1</th>\n",
       "      <th>Case Number.2</th>\n",
       "      <th>original order</th>\n",
       "      <th>Unnamed: 22</th>\n",
       "      <th>Unnamed: 23</th>\n",
       "    </tr>\n",
       "  </thead>\n",
       "  <tbody>\n",
       "    <tr>\n",
       "      <th>0</th>\n",
       "      <td>2018.06.25</td>\n",
       "      <td>25-Jun-2018</td>\n",
       "      <td>2018.0</td>\n",
       "      <td>Boating</td>\n",
       "      <td>USA</td>\n",
       "      <td>California</td>\n",
       "      <td>Oceanside, San Diego County</td>\n",
       "      <td>Paddling</td>\n",
       "      <td>Julie Wolfe</td>\n",
       "      <td>F</td>\n",
       "      <td>57</td>\n",
       "      <td>No injury to occupant, outrigger canoe and pad...</td>\n",
       "      <td>N</td>\n",
       "      <td>18h00</td>\n",
       "      <td>White shark</td>\n",
       "      <td>R. Collier, GSAF</td>\n",
       "      <td>2018.06.25-Wolfe.pdf</td>\n",
       "      <td>http://sharkattackfile.net/spreadsheets/pdf_di...</td>\n",
       "      <td>http://sharkattackfile.net/spreadsheets/pdf_di...</td>\n",
       "      <td>2018.06.25</td>\n",
       "      <td>2018.06.25</td>\n",
       "      <td>6303.0</td>\n",
       "      <td>NaN</td>\n",
       "      <td>NaN</td>\n",
       "    </tr>\n",
       "    <tr>\n",
       "      <th>1</th>\n",
       "      <td>2018.06.18</td>\n",
       "      <td>18-Jun-2018</td>\n",
       "      <td>2018.0</td>\n",
       "      <td>Unprovoked</td>\n",
       "      <td>USA</td>\n",
       "      <td>Georgia</td>\n",
       "      <td>St. Simon Island, Glynn County</td>\n",
       "      <td>Standing</td>\n",
       "      <td>Adyson McNeely</td>\n",
       "      <td>F</td>\n",
       "      <td>11</td>\n",
       "      <td>Minor injury to left thigh</td>\n",
       "      <td>N</td>\n",
       "      <td>14h00  -15h00</td>\n",
       "      <td>NaN</td>\n",
       "      <td>K.McMurray, TrackingSharks.com</td>\n",
       "      <td>2018.06.18-McNeely.pdf</td>\n",
       "      <td>http://sharkattackfile.net/spreadsheets/pdf_di...</td>\n",
       "      <td>http://sharkattackfile.net/spreadsheets/pdf_di...</td>\n",
       "      <td>2018.06.18</td>\n",
       "      <td>2018.06.18</td>\n",
       "      <td>6302.0</td>\n",
       "      <td>NaN</td>\n",
       "      <td>NaN</td>\n",
       "    </tr>\n",
       "    <tr>\n",
       "      <th>2</th>\n",
       "      <td>2018.06.09</td>\n",
       "      <td>09-Jun-2018</td>\n",
       "      <td>2018.0</td>\n",
       "      <td>Invalid</td>\n",
       "      <td>USA</td>\n",
       "      <td>Hawaii</td>\n",
       "      <td>Habush, Oahu</td>\n",
       "      <td>Surfing</td>\n",
       "      <td>John Denges</td>\n",
       "      <td>M</td>\n",
       "      <td>48</td>\n",
       "      <td>Injury to left lower leg from surfboard skeg</td>\n",
       "      <td>N</td>\n",
       "      <td>07h45</td>\n",
       "      <td>NaN</td>\n",
       "      <td>K.McMurray, TrackingSharks.com</td>\n",
       "      <td>2018.06.09-Denges.pdf</td>\n",
       "      <td>http://sharkattackfile.net/spreadsheets/pdf_di...</td>\n",
       "      <td>http://sharkattackfile.net/spreadsheets/pdf_di...</td>\n",
       "      <td>2018.06.09</td>\n",
       "      <td>2018.06.09</td>\n",
       "      <td>6301.0</td>\n",
       "      <td>NaN</td>\n",
       "      <td>NaN</td>\n",
       "    </tr>\n",
       "    <tr>\n",
       "      <th>3</th>\n",
       "      <td>2018.06.08</td>\n",
       "      <td>08-Jun-2018</td>\n",
       "      <td>2018.0</td>\n",
       "      <td>Unprovoked</td>\n",
       "      <td>AUSTRALIA</td>\n",
       "      <td>New South Wales</td>\n",
       "      <td>Arrawarra Headland</td>\n",
       "      <td>Surfing</td>\n",
       "      <td>male</td>\n",
       "      <td>M</td>\n",
       "      <td>NaN</td>\n",
       "      <td>Minor injury to lower leg</td>\n",
       "      <td>N</td>\n",
       "      <td>NaN</td>\n",
       "      <td>2 m shark</td>\n",
       "      <td>B. Myatt, GSAF</td>\n",
       "      <td>2018.06.08-Arrawarra.pdf</td>\n",
       "      <td>http://sharkattackfile.net/spreadsheets/pdf_di...</td>\n",
       "      <td>http://sharkattackfile.net/spreadsheets/pdf_di...</td>\n",
       "      <td>2018.06.08</td>\n",
       "      <td>2018.06.08</td>\n",
       "      <td>6300.0</td>\n",
       "      <td>NaN</td>\n",
       "      <td>NaN</td>\n",
       "    </tr>\n",
       "    <tr>\n",
       "      <th>4</th>\n",
       "      <td>2018.06.04</td>\n",
       "      <td>04-Jun-2018</td>\n",
       "      <td>2018.0</td>\n",
       "      <td>Provoked</td>\n",
       "      <td>MEXICO</td>\n",
       "      <td>Colima</td>\n",
       "      <td>La Ticla</td>\n",
       "      <td>Free diving</td>\n",
       "      <td>Gustavo Ramos</td>\n",
       "      <td>M</td>\n",
       "      <td>NaN</td>\n",
       "      <td>Lacerations to leg &amp; hand shark PROVOKED INCIDENT</td>\n",
       "      <td>N</td>\n",
       "      <td>NaN</td>\n",
       "      <td>Tiger shark, 3m</td>\n",
       "      <td>A .Kipper</td>\n",
       "      <td>2018.06.04-Ramos.pdf</td>\n",
       "      <td>http://sharkattackfile.net/spreadsheets/pdf_di...</td>\n",
       "      <td>http://sharkattackfile.net/spreadsheets/pdf_di...</td>\n",
       "      <td>2018.06.04</td>\n",
       "      <td>2018.06.04</td>\n",
       "      <td>6299.0</td>\n",
       "      <td>NaN</td>\n",
       "      <td>NaN</td>\n",
       "    </tr>\n",
       "  </tbody>\n",
       "</table>\n",
       "</div>"
      ],
      "text/plain": [
       "  Case Number         Date    Year        Type    Country             Area  \\\n",
       "0  2018.06.25  25-Jun-2018  2018.0     Boating        USA       California   \n",
       "1  2018.06.18  18-Jun-2018  2018.0  Unprovoked        USA          Georgia   \n",
       "2  2018.06.09  09-Jun-2018  2018.0     Invalid        USA           Hawaii   \n",
       "3  2018.06.08  08-Jun-2018  2018.0  Unprovoked  AUSTRALIA  New South Wales   \n",
       "4  2018.06.04  04-Jun-2018  2018.0    Provoked     MEXICO           Colima   \n",
       "\n",
       "                         Location     Activity             Name Sex   Age  \\\n",
       "0     Oceanside, San Diego County     Paddling      Julie Wolfe    F   57   \n",
       "1  St. Simon Island, Glynn County     Standing  Adyson McNeely     F   11   \n",
       "2                    Habush, Oahu      Surfing      John Denges    M   48   \n",
       "3              Arrawarra Headland      Surfing             male    M  NaN   \n",
       "4                        La Ticla  Free diving   Gustavo Ramos     M  NaN   \n",
       "\n",
       "                                              Injury Fatal (Y/N)  \\\n",
       "0  No injury to occupant, outrigger canoe and pad...           N   \n",
       "1                         Minor injury to left thigh           N   \n",
       "2       Injury to left lower leg from surfboard skeg           N   \n",
       "3                          Minor injury to lower leg           N   \n",
       "4  Lacerations to leg & hand shark PROVOKED INCIDENT           N   \n",
       "\n",
       "            Time         Species           Investigator or Source  \\\n",
       "0          18h00      White shark                R. Collier, GSAF   \n",
       "1  14h00  -15h00              NaN  K.McMurray, TrackingSharks.com   \n",
       "2          07h45              NaN  K.McMurray, TrackingSharks.com   \n",
       "3            NaN        2 m shark                  B. Myatt, GSAF   \n",
       "4            NaN  Tiger shark, 3m                       A .Kipper   \n",
       "\n",
       "                        pdf  \\\n",
       "0      2018.06.25-Wolfe.pdf   \n",
       "1    2018.06.18-McNeely.pdf   \n",
       "2     2018.06.09-Denges.pdf   \n",
       "3  2018.06.08-Arrawarra.pdf   \n",
       "4      2018.06.04-Ramos.pdf   \n",
       "\n",
       "                                        href formula  \\\n",
       "0  http://sharkattackfile.net/spreadsheets/pdf_di...   \n",
       "1  http://sharkattackfile.net/spreadsheets/pdf_di...   \n",
       "2  http://sharkattackfile.net/spreadsheets/pdf_di...   \n",
       "3  http://sharkattackfile.net/spreadsheets/pdf_di...   \n",
       "4  http://sharkattackfile.net/spreadsheets/pdf_di...   \n",
       "\n",
       "                                                href Case Number.1  \\\n",
       "0  http://sharkattackfile.net/spreadsheets/pdf_di...    2018.06.25   \n",
       "1  http://sharkattackfile.net/spreadsheets/pdf_di...    2018.06.18   \n",
       "2  http://sharkattackfile.net/spreadsheets/pdf_di...    2018.06.09   \n",
       "3  http://sharkattackfile.net/spreadsheets/pdf_di...    2018.06.08   \n",
       "4  http://sharkattackfile.net/spreadsheets/pdf_di...    2018.06.04   \n",
       "\n",
       "  Case Number.2  original order Unnamed: 22 Unnamed: 23  \n",
       "0    2018.06.25          6303.0         NaN         NaN  \n",
       "1    2018.06.18          6302.0         NaN         NaN  \n",
       "2    2018.06.09          6301.0         NaN         NaN  \n",
       "3    2018.06.08          6300.0         NaN         NaN  \n",
       "4    2018.06.04          6299.0         NaN         NaN  "
      ]
     },
     "execution_count": 62,
     "metadata": {},
     "output_type": "execute_result"
    }
   ],
   "source": [
    "shark.head()"
   ]
  },
  {
   "cell_type": "code",
   "execution_count": 63,
   "id": "71a0d510",
   "metadata": {},
   "outputs": [
    {
     "data": {
      "text/plain": [
       "(24,)"
      ]
     },
     "execution_count": 63,
     "metadata": {},
     "output_type": "execute_result"
    }
   ],
   "source": [
    "shark.columns.shape #tenemos 24 columnas"
   ]
  },
  {
   "cell_type": "code",
   "execution_count": 64,
   "id": "abd8e7fa",
   "metadata": {},
   "outputs": [
    {
     "name": "stdout",
     "output_type": "stream",
     "text": [
      "<class 'pandas.core.frame.DataFrame'>\n",
      "RangeIndex: 25723 entries, 0 to 25722\n",
      "Data columns (total 24 columns):\n",
      " #   Column                  Non-Null Count  Dtype  \n",
      "---  ------                  --------------  -----  \n",
      " 0   Case Number             8702 non-null   object \n",
      " 1   Date                    6302 non-null   object \n",
      " 2   Year                    6300 non-null   float64\n",
      " 3   Type                    6298 non-null   object \n",
      " 4   Country                 6252 non-null   object \n",
      " 5   Area                    5847 non-null   object \n",
      " 6   Location                5762 non-null   object \n",
      " 7   Activity                5758 non-null   object \n",
      " 8   Name                    6092 non-null   object \n",
      " 9   Sex                     5737 non-null   object \n",
      " 10  Age                     3471 non-null   object \n",
      " 11  Injury                  6274 non-null   object \n",
      " 12  Fatal (Y/N)             5763 non-null   object \n",
      " 13  Time                    2948 non-null   object \n",
      " 14  Species                 3464 non-null   object \n",
      " 15  Investigator or Source  6285 non-null   object \n",
      " 16  pdf                     6302 non-null   object \n",
      " 17  href formula            6301 non-null   object \n",
      " 18  href                    6302 non-null   object \n",
      " 19  Case Number.1           6302 non-null   object \n",
      " 20  Case Number.2           6302 non-null   object \n",
      " 21  original order          6309 non-null   float64\n",
      " 22  Unnamed: 22             1 non-null      object \n",
      " 23  Unnamed: 23             2 non-null      object \n",
      "dtypes: float64(2), object(22)\n",
      "memory usage: 22.8 MB\n"
     ]
    }
   ],
   "source": [
    "shark.info(memory_usage=\"deep\") # 25723 filas >> todas tienen nulos "
   ]
  },
  {
   "cell_type": "markdown",
   "id": "7071da12",
   "metadata": {},
   "source": [
    "El case number es un identificador, por lo que vamos a rellenar los nan con números random distintos a los identificadores ya existentes, de manera que todos los ataques estén identificados"
   ]
  },
  {
   "cell_type": "code",
   "execution_count": 65,
   "id": "15e25b63",
   "metadata": {},
   "outputs": [
    {
     "data": {
      "text/plain": [
       "Case Number               17021\n",
       "Date                      19421\n",
       "Year                      19423\n",
       "Type                      19425\n",
       "Country                   19471\n",
       "Area                      19876\n",
       "Location                  19961\n",
       "Activity                  19965\n",
       "Name                      19631\n",
       "Sex                       19986\n",
       "Age                       22252\n",
       "Injury                    19449\n",
       "Fatal (Y/N)               19960\n",
       "Time                      22775\n",
       "Species                   22259\n",
       "Investigator or Source    19438\n",
       "pdf                       19421\n",
       "href formula              19422\n",
       "href                      19421\n",
       "Case Number.1             19421\n",
       "Case Number.2             19421\n",
       "original order            19414\n",
       "Unnamed: 22               25722\n",
       "Unnamed: 23               25721\n",
       "dtype: int64"
      ]
     },
     "execution_count": 65,
     "metadata": {},
     "output_type": "execute_result"
    }
   ],
   "source": [
    "nan_cols=shark.isna().sum()\n",
    "nan_cols[nan_cols>0]"
   ]
  },
  {
   "cell_type": "code",
   "execution_count": 66,
   "id": "1a057dac",
   "metadata": {},
   "outputs": [],
   "source": [
    "def check_nan(df):\n",
    "    \n",
    "    nan_cols=shark.isna().mean() * 100\n",
    "    \n",
    "    display(f'N nan cols: {len(nan_cols[nan_cols>0])}')\n",
    "    display(nan_cols[nan_cols>0])\n",
    "    \n",
    "    plt.figure(figsize=(10, 6))\n",
    "\n",
    "    sns.heatmap(df.isna(),  # mapa de calor\n",
    "                yticklabels=False,\n",
    "                cmap='viridis',\n",
    "                cbar=False)\n",
    "    \n",
    "    plt.show();"
   ]
  },
  {
   "cell_type": "code",
   "execution_count": 67,
   "id": "d29c529a",
   "metadata": {},
   "outputs": [
    {
     "data": {
      "text/plain": [
       "'N nan cols: 24'"
      ]
     },
     "metadata": {},
     "output_type": "display_data"
    },
    {
     "data": {
      "text/plain": [
       "Case Number               66.170353\n",
       "Date                      75.500525\n",
       "Year                      75.508300\n",
       "Type                      75.516075\n",
       "Country                   75.694903\n",
       "Area                      77.269370\n",
       "Location                  77.599813\n",
       "Activity                  77.615364\n",
       "Name                      76.316915\n",
       "Sex                       77.697003\n",
       "Age                       86.506240\n",
       "Injury                    75.609377\n",
       "Fatal (Y/N)               77.595926\n",
       "Time                      88.539439\n",
       "Species                   86.533453\n",
       "Investigator or Source    75.566614\n",
       "pdf                       75.500525\n",
       "href formula              75.504412\n",
       "href                      75.500525\n",
       "Case Number.1             75.500525\n",
       "Case Number.2             75.500525\n",
       "original order            75.473312\n",
       "Unnamed: 22               99.996112\n",
       "Unnamed: 23               99.992225\n",
       "dtype: float64"
      ]
     },
     "metadata": {},
     "output_type": "display_data"
    },
    {
     "data": {
      "image/png": "[encoded data removed]",
      "text/plain": [
       "<Figure size 720x432 with 1 Axes>"
      ]
     },
     "metadata": {
      "needs_background": "light"
     },
     "output_type": "display_data"
    }
   ],
   "source": [
    "check_nan(shark)"
   ]
  },
  {
   "cell_type": "code",
   "execution_count": 68,
   "id": "bd710df6",
   "metadata": {},
   "outputs": [
    {
     "data": {
      "text/plain": [
       "Int64Index([ 8702,  8703,  8704,  8705,  8706,  8707,  8708,  8709,  8710,\n",
       "             8711,\n",
       "            ...\n",
       "            25712, 25713, 25714, 25715, 25716, 25717, 25718, 25719, 25720,\n",
       "            25721],\n",
       "           dtype='int64', length=17020)"
      ]
     },
     "execution_count": 68,
     "metadata": {},
     "output_type": "execute_result"
    }
   ],
   "source": [
    "nan_rows=shark.index[shark.isnull().all(1)] #lista de filas en las que todos los valores son nulos\n",
    "nan_rows"
   ]
  },
  {
   "cell_type": "code",
   "execution_count": 69,
   "id": "cc83ada5",
   "metadata": {},
   "outputs": [
    {
     "data": {
      "text/plain": [
       "(17020,)"
      ]
     },
     "execution_count": 69,
     "metadata": {},
     "output_type": "execute_result"
    }
   ],
   "source": [
    "nan_rows.shape  "
   ]
  },
  {
   "cell_type": "markdown",
   "id": "bb42fda4",
   "metadata": {},
   "source": [
    "Un 66.17% de las filas (17020/25723) tienen todos sus valores nulos \n",
    "-podemos eliminar hasta el 20% de las filas, por lo que nos quedariamos con 20,578 filas \n",
    "-hay 8703 filas con datos\n",
    "\n",
    "\n",
    "\n",
    "\n"
   ]
  },
  {
   "cell_type": "markdown",
   "id": "46edfa69",
   "metadata": {},
   "source": [
    "Vamos a eliminar todas las columnas con nulos y duplicar valores con datos hasta obtener una dataframe con al menos 20,000 filas"
   ]
  },
  {
   "cell_type": "code",
   "execution_count": 70,
   "id": "dfd0938f",
   "metadata": {},
   "outputs": [],
   "source": [
    "shark.drop(nan_rows,axis=0,inplace=True)"
   ]
  },
  {
   "cell_type": "code",
   "execution_count": 71,
   "id": "67292890",
   "metadata": {},
   "outputs": [
    {
     "data": {
      "text/plain": [
       "'N nan cols: 24'"
      ]
     },
     "metadata": {},
     "output_type": "display_data"
    },
    {
     "data": {
      "text/plain": [
       "Case Number                0.011490\n",
       "Date                      27.588188\n",
       "Year                      27.611169\n",
       "Type                      27.634149\n",
       "Country                   28.162703\n",
       "Area                      32.816270\n",
       "Location                  33.792945\n",
       "Activity                  33.838906\n",
       "Name                      30.001149\n",
       "Sex                       34.080202\n",
       "Age                       60.117201\n",
       "Injury                    27.909916\n",
       "Fatal (Y/N)               33.781455\n",
       "Time                      66.126623\n",
       "Species                   60.197633\n",
       "Investigator or Source    27.783523\n",
       "pdf                       27.588188\n",
       "href formula              27.599678\n",
       "href                      27.588188\n",
       "Case Number.1             27.588188\n",
       "Case Number.2             27.588188\n",
       "original order            27.507756\n",
       "Unnamed: 22               99.988510\n",
       "Unnamed: 23               99.977019\n",
       "dtype: float64"
      ]
     },
     "metadata": {},
     "output_type": "display_data"
    },
    {
     "data": {
      "image/png": "[encoded data removed]",
      "text/plain": [
       "<Figure size 720x432 with 1 Axes>"
      ]
     },
     "metadata": {
      "needs_background": "light"
     },
     "output_type": "display_data"
    }
   ],
   "source": [
    "check_nan(shark)"
   ]
  },
  {
   "cell_type": "markdown",
   "id": "4aed6ee2",
   "metadata": {},
   "source": [
    "Vemos que gran parte de las filas aun teniendo identificador no tienen datos relevantes, por lo que tambien los vamos a eliminar ya que no nos dan información relevante, luego decidire como añadir estos datos"
   ]
  },
  {
   "cell_type": "code",
   "execution_count": 72,
   "id": "cb8cdbf2",
   "metadata": {},
   "outputs": [],
   "source": [
    "shark.drop_duplicates(inplace=True)"
   ]
  },
  {
   "cell_type": "code",
   "execution_count": 73,
   "id": "c46c423c",
   "metadata": {},
   "outputs": [],
   "source": [
    "#rellenamos las columnas unnamed 22 y unnamed 23 de 0. \n",
    "\n",
    "shark[\"Unnamed: 22\"]=0\n",
    "shark[\"Unnamed: 23\"]=0"
   ]
  },
  {
   "cell_type": "code",
   "execution_count": 74,
   "id": "b593838c",
   "metadata": {},
   "outputs": [
    {
     "data": {
      "text/plain": [
       "'N nan cols: 22'"
      ]
     },
     "metadata": {},
     "output_type": "display_data"
    },
    {
     "data": {
      "text/plain": [
       "Case Number                0.015845\n",
       "Date                       0.142608\n",
       "Year                       0.174299\n",
       "Type                       0.205990\n",
       "Country                    0.934876\n",
       "Area                       7.352242\n",
       "Location                   8.699097\n",
       "Activity                   8.762478\n",
       "Name                       3.470132\n",
       "Sex                        9.095231\n",
       "Age                       45.000792\n",
       "Injury                     0.586278\n",
       "Fatal (Y/N)                8.683251\n",
       "Time                      53.287910\n",
       "Species                   45.111710\n",
       "Investigator or Source     0.411979\n",
       "pdf                        0.142608\n",
       "href formula               0.158453\n",
       "href                       0.142608\n",
       "Case Number.1              0.142608\n",
       "Case Number.2              0.142608\n",
       "original order             0.031691\n",
       "dtype: float64"
      ]
     },
     "metadata": {},
     "output_type": "display_data"
    },
    {
     "data": {
      "image/png": "[encoded data removed]",
      "text/plain": [
       "<Figure size 720x432 with 1 Axes>"
      ]
     },
     "metadata": {
      "needs_background": "light"
     },
     "output_type": "display_data"
    }
   ],
   "source": [
    "check_nan(shark)"
   ]
  },
  {
   "cell_type": "markdown",
   "id": "4723c525",
   "metadata": {},
   "source": [
    "Ahora ya tenemos datos con los que poder trabajar, vamos a centrarnos primero en las columnas con más nulos"
   ]
  },
  {
   "cell_type": "markdown",
   "id": "7a158bdd",
   "metadata": {},
   "source": [
    "# Columna \"time\" y columna \"Species\""
   ]
  },
  {
   "cell_type": "code",
   "execution_count": 75,
   "id": "12d0d192",
   "metadata": {},
   "outputs": [
    {
     "data": {
      "text/plain": [
       "0              18h00\n",
       "1      14h00  -15h00\n",
       "2              07h45\n",
       "3                NaN\n",
       "4                NaN\n",
       "5                NaN\n",
       "6     Late afternoon\n",
       "7                NaN\n",
       "8              17h00\n",
       "9              14h00\n",
       "10           Morning\n",
       "11               NaN\n",
       "12             15h00\n",
       "13             08h15\n",
       "14               NaN\n",
       "15             11h00\n",
       "16             10h30\n",
       "17               NaN\n",
       "18             10h40\n",
       "19             16h50\n",
       "20             07h00\n",
       "21             09h30\n",
       "22         Afternoon\n",
       "23             21h50\n",
       "24             09h40\n",
       "25               NaN\n",
       "26               NaN\n",
       "27               NaN\n",
       "28               NaN\n",
       "29             08h00\n",
       "Name: Time, dtype: object"
      ]
     },
     "execution_count": 75,
     "metadata": {},
     "output_type": "execute_result"
    }
   ],
   "source": [
    "shark.Time.head(30)\n"
   ]
  },
  {
   "cell_type": "markdown",
   "id": "9b5cc5d1",
   "metadata": {},
   "source": [
    "Hay mucha variedad de datos en esta columna, por un lado tenemos horas, por otro lado tenemos mañana/tarde y para algunos tenemos nulos. Vamos a simplificar esta columna en \"mañana\", \"tarde\", \"unknown\""
   ]
  },
  {
   "cell_type": "code",
   "execution_count": 76,
   "id": "4b9f6186",
   "metadata": {},
   "outputs": [],
   "source": [
    "#primero rellenamos los Nan con unkown\n",
    "shark.Time.fillna(\"unkown\",inplace=True)"
   ]
  },
  {
   "cell_type": "code",
   "execution_count": 77,
   "id": "37d0088f",
   "metadata": {},
   "outputs": [
    {
     "data": {
      "text/plain": [
       "0              18h00\n",
       "1      14h00  -15h00\n",
       "2              07h45\n",
       "3             unkown\n",
       "4             unkown\n",
       "5             unkown\n",
       "6     Late afternoon\n",
       "7             unkown\n",
       "8              17h00\n",
       "9              14h00\n",
       "10           Morning\n",
       "11            unkown\n",
       "12             15h00\n",
       "13             08h15\n",
       "14            unkown\n",
       "15             11h00\n",
       "16             10h30\n",
       "17            unkown\n",
       "18             10h40\n",
       "19             16h50\n",
       "20             07h00\n",
       "21             09h30\n",
       "22         Afternoon\n",
       "23             21h50\n",
       "24             09h40\n",
       "25            unkown\n",
       "26            unkown\n",
       "27            unkown\n",
       "28            unkown\n",
       "29             08h00\n",
       "Name: Time, dtype: object"
      ]
     },
     "execution_count": 77,
     "metadata": {},
     "output_type": "execute_result"
    }
   ],
   "source": [
    "shark.Time.head(30)"
   ]
  },
  {
   "cell_type": "code",
   "execution_count": 78,
   "id": "8d8fd3f4",
   "metadata": {},
   "outputs": [],
   "source": [
    "afternoon=[\"13\",\"14\",\"15\",\"16\",\"17\",\"18\"]"
   ]
  },
  {
   "cell_type": "code",
   "execution_count": 79,
   "id": "9c31090f",
   "metadata": {},
   "outputs": [],
   "source": [
    "aftern={\"17\":\"Afternoon \",\"18\":\"After\"}"
   ]
  },
  {
   "cell_type": "markdown",
   "id": "9fea96de",
   "metadata": {},
   "source": [
    "# VOLVER LUEGO A LIMPIAR \"TIME\""
   ]
  },
  {
   "cell_type": "code",
   "execution_count": 80,
   "id": "d12e79d4",
   "metadata": {},
   "outputs": [],
   "source": [
    "shark.Time=shark.Time.str.replace(\"18\",\"Afternoon \")"
   ]
  },
  {
   "cell_type": "markdown",
   "id": "6a145e38",
   "metadata": {},
   "source": [
    "# VOLVER LUEGO A rellenar y LIMPIAR \"Species\""
   ]
  },
  {
   "cell_type": "markdown",
   "id": "f0dcfa0d",
   "metadata": {},
   "source": [
    "# Columnas \"Age\",\"Sex\",\"Activity\" y \"Location\""
   ]
  },
  {
   "cell_type": "code",
   "execution_count": 81,
   "id": "6ec08a7e",
   "metadata": {},
   "outputs": [
    {
     "data": {
      "text/plain": [
       "0         57\n",
       "1         11\n",
       "2         48\n",
       "3        NaN\n",
       "4        NaN\n",
       "        ... \n",
       "6306     NaN\n",
       "6307     NaN\n",
       "6308     NaN\n",
       "6309     NaN\n",
       "25722    NaN\n",
       "Name: Age, Length: 6311, dtype: object"
      ]
     },
     "execution_count": 81,
     "metadata": {},
     "output_type": "execute_result"
    }
   ],
   "source": [
    "shark.Age"
   ]
  },
  {
   "cell_type": "markdown",
   "id": "71d0a865",
   "metadata": {},
   "source": [
    "Rellenamos los nulos de la columna age con la media de edad de los datos que tenemos ya que nos conviene mantener en la columna todo valores numéricos en lugar de añadir alguna categoría como \"unknown\".\n",
    "\n",
    "Primero cambiamos el tipo de dato de \"Age\" de objeto a int"
   ]
  },
  {
   "cell_type": "code",
   "execution_count": null,
   "id": "c9fbf111",
   "metadata": {},
   "outputs": [],
   "source": []
  },
  {
   "cell_type": "code",
   "execution_count": 82,
   "id": "902991d5",
   "metadata": {},
   "outputs": [],
   "source": [
    "shark[\"Age\"]=shark.Age.str.extract(r'(\\d\\d)') #hay valores que tienen letras, por lo que cogemos solo los valores numéricos"
   ]
  },
  {
   "cell_type": "code",
   "execution_count": 83,
   "id": "a16d82f0",
   "metadata": {},
   "outputs": [
    {
     "data": {
      "text/plain": [
       "0         57\n",
       "1         11\n",
       "2         48\n",
       "3        NaN\n",
       "4        NaN\n",
       "        ... \n",
       "6306     NaN\n",
       "6307     NaN\n",
       "6308     NaN\n",
       "6309     NaN\n",
       "25722    NaN\n",
       "Name: Age, Length: 6311, dtype: object"
      ]
     },
     "execution_count": 83,
     "metadata": {},
     "output_type": "execute_result"
    }
   ],
   "source": [
    "shark.Age"
   ]
  },
  {
   "cell_type": "code",
   "execution_count": 87,
   "id": "7dd28eda",
   "metadata": {},
   "outputs": [],
   "source": [
    "shark.Age.fillna(0,inplace=True)"
   ]
  },
  {
   "cell_type": "code",
   "execution_count": 102,
   "id": "12408692",
   "metadata": {},
   "outputs": [],
   "source": [
    "shark.Age=shark.Age.astype(dtype=\"int8\")"
   ]
  },
  {
   "cell_type": "code",
   "execution_count": 107,
   "id": "1c25fc27",
   "metadata": {},
   "outputs": [],
   "source": [
    "shark.Age.replace(0, shark.Age.mean(),inplace=True)"
   ]
  },
  {
   "cell_type": "code",
   "execution_count": null,
   "id": "b22af0f1",
   "metadata": {},
   "outputs": [],
   "source": []
  }
 ],
 "metadata": {
  "kernelspec": {
   "display_name": "Ironhack",
   "language": "python",
   "name": "ironhack"
  },
  "language_info": {
   "codemirror_mode": {
    "name": "ipython",
    "version": 3
   },
   "file_extension": ".py",
   "mimetype": "text/x-python",
   "name": "python",
   "nbconvert_exporter": "python",
   "pygments_lexer": "ipython3",
   "version": "3.9.7"
  }
 },
 "nbformat": 4,
 "nbformat_minor": 5
}
